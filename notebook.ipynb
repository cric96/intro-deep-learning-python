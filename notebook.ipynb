{
 "cells": [
  {
   "cell_type": "markdown",
   "source": [
    "# Hand-On in Deep Reinforcement Learning in Python\n"
   ],
   "metadata": {
    "collapsed": false,
    "pycharm": {
     "name": "#%% md\n"
    }
   }
  },
  {
   "cell_type": "markdown",
   "source": [
    "## Requirements"
   ],
   "metadata": {
    "collapsed": false,
    "pycharm": {
     "name": "#%% md\n"
    }
   }
  },
  {
   "cell_type": "markdown",
   "source": [
    "### Deep Learning and Reinforcement Learning Library\n",
    "- Gym\n",
    "- PyTorch\n",
    "- Stable Baselines 3"
   ],
   "metadata": {
    "collapsed": false,
    "pycharm": {
     "name": "#%% md\n"
    }
   }
  },
  {
   "cell_type": "code",
   "execution_count": 1,
   "outputs": [],
   "source": [
    "!pip install swig==4.1.1 > /dev/null 2>&1\n",
    "!pip install box2d-py==2.3.5 > /dev/null 2>&1\n",
    "!pip install numpy==1.21.5 > /dev/null 2>&1\n",
    "!pip install 'gymnasium[box2d]==0.28.1' > /dev/null 2>&1\n",
    "!pip3 install torch torchvision torchaudio > /dev/null 2>&1"
   ],
   "metadata": {
    "collapsed": false,
    "pycharm": {
     "name": "#%%\n"
    },
    "ExecuteTime": {
     "end_time": "2023-05-24T15:46:22.696385869Z",
     "start_time": "2023-05-24T15:46:16.769149297Z"
    }
   }
  },
  {
   "cell_type": "markdown",
   "source": [
    "### Visualization Libraries\n",
    "- Virtualdisplay\n",
    "\n",
    "Works only on linux and with xvbf installed."
   ],
   "metadata": {
    "collapsed": false,
    "pycharm": {
     "name": "#%% md\n"
    }
   }
  },
  {
   "cell_type": "code",
   "execution_count": 2,
   "metadata": {
    "colab": {
     "base_uri": "https://localhost:8080/"
    },
    "id": "zs0drRxGKOfH",
    "outputId": "537e8c52-73f3-4585-a2da-5c6eb46a7c62",
    "pycharm": {
     "name": "#%%\n"
    },
    "ExecuteTime": {
     "end_time": "2023-05-24T15:46:26.380722107Z",
     "start_time": "2023-05-24T15:46:22.702061569Z"
    }
   },
   "outputs": [],
   "source": [
    "!apt-get install -y xvfb x11-utils > /dev/null 2>&1\n",
    "!pip install matplotlib > /dev/null 2>&1\n",
    "!pip install xvfbwrapper > /dev/null 2>&1\n",
    "!pip install 'pyvirtualdisplay==0.2.*'  'PyOpenGL==3.1.*' 'PyOpenGL-accelerate==3.1.*' > /dev/null 2>&1"
   ]
  },
  {
   "cell_type": "code",
   "execution_count": 3,
   "metadata": {
    "id": "mRyYYPy7R2hi",
    "pycharm": {
     "name": "#%%\n"
    },
    "ExecuteTime": {
     "end_time": "2023-05-24T15:46:26.510087694Z",
     "start_time": "2023-05-24T15:46:26.385444678Z"
    }
   },
   "outputs": [
    {
     "data": {
      "text/plain": "<Display cmd_param=['Xvfb', '-br', '-nolisten', 'tcp', '-screen', '0', '1400x900x24', ':1001'] cmd=['Xvfb', '-br', '-nolisten', 'tcp', '-screen', '0', '1400x900x24', ':1001'] oserror=None return_code=None stdout=\"None\" stderr=\"None\" timeout_happened=False>"
     },
     "execution_count": 3,
     "metadata": {},
     "output_type": "execute_result"
    }
   ],
   "source": [
    "import pyvirtualdisplay\n",
    "pyvirtualdisplay.Display(visible=False, size=(1400, 900)).start()"
   ]
  },
  {
   "cell_type": "markdown",
   "source": [
    "### Gym Basics\n",
    "Simple example of how to interact with the environment"
   ],
   "metadata": {
    "collapsed": false,
    "pycharm": {
     "name": "#%% md\n"
    }
   }
  },
  {
   "cell_type": "code",
   "execution_count": 4,
   "metadata": {
    "colab": {
     "base_uri": "https://localhost:8080/",
     "height": 367
    },
    "id": "nG3zCpDsJQfz",
    "outputId": "d23d6d42-287e-45e9-8355-70de9e36e608",
    "pycharm": {
     "name": "#%%\n"
    }
   },
   "outputs": [
    {
     "data": {
      "text/plain": "<Figure size 640x480 with 1 Axes>",
      "image/png": "[encoded data removed]"
     },
     "metadata": {},
     "output_type": "display_data"
    }
   ],
   "source": [
    "import gymnasium as gym\n",
    "import copy\n",
    "### From rendering\n",
    "from IPython import display\n",
    "import matplotlib.pyplot as plt\n",
    "## Create environment\n",
    "env = gym.make('LunarLander-v2', render_mode=\"rgb_array\")\n",
    "env.reset() ## When the env is created it should be reset to initialize the state\n",
    "img = plt.imshow(env.render()) ## Used for rendering purposes\n",
    "print(env.action_space.sample())\n",
    "for i in range(100): ## Run for 1000 steps\n",
    "    env.step(env.action_space.sample()) ## Pick a random action and progress the environment\n",
    "    img.set_data(env.render())\n",
    "    plt.axis('off')\n",
    "    display.display(plt.gcf())\n",
    "    display.clear_output(wait=True)"
   ]
  },
  {
   "cell_type": "code",
   "execution_count": 5,
   "outputs": [],
   "source": [
    "import torch\n",
    "import torch.nn as nn\n",
    "import torch.nn.functional as F\n",
    "import torch.optim as optim\n",
    "## For the memory\n",
    "\n",
    "from random import random\n",
    "from random import sample\n",
    "from collections import namedtuple, deque\n",
    "# Plotting\n",
    "import matplotlib\n",
    "import matplotlib.pyplot as plt"
   ],
   "metadata": {
    "collapsed": false,
    "pycharm": {
     "name": "#%%\n"
    },
    "ExecuteTime": {
     "end_time": "2023-05-24T15:46:30.397784785Z",
     "start_time": "2023-05-24T15:46:29.764392823Z"
    }
   }
  },
  {
   "cell_type": "code",
   "execution_count": 6,
   "outputs": [
    {
     "data": {
      "text/plain": "device(type='cuda')"
     },
     "execution_count": 6,
     "metadata": {},
     "output_type": "execute_result"
    }
   ],
   "source": [
    "# if GPU is to be used\n",
    "device = torch.device(\"cuda\" if torch.cuda.is_available() else \"cpu\")\n",
    "device"
   ],
   "metadata": {
    "collapsed": false,
    "pycharm": {
     "name": "#%%\n"
    },
    "ExecuteTime": {
     "end_time": "2023-05-24T15:46:30.435241667Z",
     "start_time": "2023-05-24T15:46:30.431987772Z"
    }
   }
  },
  {
   "cell_type": "code",
   "execution_count": 7,
   "outputs": [],
   "source": [
    "def create_experience(state, action, reward, next_state, done):\n",
    "    return {\n",
    "        \"state\" : state, \"action\" : action, \"reward\" : reward, \"next_state\" : next_state, \"done\" : done\n",
    "    }\n",
    "\n",
    "class ReplayMemory(object):\n",
    "\n",
    "    def __init__(self, capacity):\n",
    "        self.memory = deque([], maxlen=capacity)\n",
    "\n",
    "    def push(self, *args):\n",
    "        self.memory.append(create_experience(*args))\n",
    "\n",
    "    def sample(self, batch_size):\n",
    "        return sample(self.memory, batch_size)\n",
    "\n",
    "\n",
    "    def __len__(self):\n",
    "        return len(self.memory)\n"
   ],
   "metadata": {
    "collapsed": false,
    "pycharm": {
     "name": "#%%\n"
    },
    "ExecuteTime": {
     "end_time": "2023-05-24T15:46:30.442313892Z",
     "start_time": "2023-05-24T15:46:30.434921909Z"
    }
   }
  },
  {
   "cell_type": "code",
   "execution_count": 8,
   "outputs": [],
   "source": [
    "class RenderStrategy:\n",
    "    def render(self, data):\n",
    "        pass\n",
    "    def update(self):\n",
    "        pass\n",
    "class OffRenderer(RenderStrategy):\n",
    "    def render(self, data):\n",
    "        return\n",
    "\n",
    "class OnRenderer(RenderStrategy):\n",
    "    def __init__(self, render_every=1):\n",
    "        self.img = None\n",
    "        self.render_every = render_every\n",
    "        self.render_count = 0\n",
    "    def render(self, data):\n",
    "        if self.render_count % self.render_every == 0:\n",
    "            if self.img is None:\n",
    "                self.img = plt.imshow(data)\n",
    "            self.img.set_data(env.render())\n",
    "            plt.axis('off')\n",
    "            display.display(plt.gcf())\n",
    "            display.clear_output(wait=True)\n",
    "    def update(self):\n",
    "        self.render_count += 1\n",
    "        self.img = None"
   ],
   "metadata": {
    "collapsed": false,
    "ExecuteTime": {
     "end_time": "2023-05-24T15:46:30.445214694Z",
     "start_time": "2023-05-24T15:46:30.442201932Z"
    }
   }
  },
  {
   "cell_type": "code",
   "execution_count": 9,
   "outputs": [],
   "source": [
    "class DQN(nn.Module):\n",
    "    def __init__(self, n_observations, n_actions, hidden_size):\n",
    "        super(DQN, self).__init__()\n",
    "        self.layer1 = nn.Linear(n_observations, hidden_size)\n",
    "        self.layer2 = nn.Linear(hidden_size, hidden_size)\n",
    "        self.layer3 = nn.Linear(hidden_size, n_actions)\n",
    "\n",
    "    def forward(self, x):\n",
    "        x = F.relu(self.layer1(x))\n",
    "        x = F.relu(self.layer2(x))\n",
    "        return self.layer3(x)"
   ],
   "metadata": {
    "collapsed": false,
    "pycharm": {
     "name": "#%%\n"
    },
    "ExecuteTime": {
     "end_time": "2023-05-24T15:46:30.489214302Z",
     "start_time": "2023-05-24T15:46:30.445386209Z"
    }
   }
  },
  {
   "cell_type": "code",
   "execution_count": 10,
   "outputs": [],
   "source": [
    "import math\n",
    "# Exponential decay that decays from start to end. After each call to decay it should reduce the value by decay_rate\n",
    "class ExponentialDecay:\n",
    "    def __init__(self, start, end, decay_rate):\n",
    "        self.start = start\n",
    "        self.end = end\n",
    "        self.decay_rate = decay_rate\n",
    "        self.value = start\n",
    "        self.initial = start\n",
    "    def decay(self):\n",
    "        self.value = max(self.end, self.value * self.decay_rate)\n",
    "\n",
    "    def __call__(self):\n",
    "        return self.value\n",
    "\n",
    "    def reset(self):\n",
    "        self.value = self.initial"
   ],
   "metadata": {
    "collapsed": false,
    "pycharm": {
     "name": "#%%\n"
    },
    "ExecuteTime": {
     "end_time": "2023-05-24T15:46:30.489331099Z",
     "start_time": "2023-05-24T15:46:30.489120744Z"
    }
   }
  },
  {
   "cell_type": "code",
   "execution_count": 11,
   "outputs": [],
   "source": [
    "import copy\n",
    "\n",
    "class DQNAgent:\n",
    "    def __init__(self, network, memory, batch_size, gamma, learning_rate, epsilon, action_space, copy_target_every=100):\n",
    "        self.policy_network = network\n",
    "        self.target_network = copy.deepcopy(network)\n",
    "        self.policy_network.train()\n",
    "        self.target_network.train()\n",
    "        self.memory = memory\n",
    "        self.batch_size = batch_size\n",
    "        self.gamma = gamma\n",
    "        self.learning_rate = learning_rate\n",
    "        self.optimizer = optim.AdamW(self.policy_network.parameters(), lr=learning_rate, amsgrad=True)\n",
    "        self.epsilon = epsilon\n",
    "        self.copy_target_every = copy_target_every\n",
    "        self.updates = 0\n",
    "        self.action_space = action_space\n",
    "        self.learning = True\n",
    "\n",
    "    def eval(self):\n",
    "        self.policy_network.eval()\n",
    "        self.target_network.eval()\n",
    "        self.learning = False\n",
    "\n",
    "    def train(self):\n",
    "        self.policy_network.train()\n",
    "        self.target_network.train()\n",
    "        self.learning = True\n",
    "\n",
    "    def act(self, state):\n",
    "        with torch.no_grad():\n",
    "            return self.policy_network(state).max(0)[1].item()\n",
    "\n",
    "    def act_epsilon_greedy(self, state):\n",
    "        if random() > self.epsilon():\n",
    "            return self.act(state)\n",
    "        else:\n",
    "            return self.action_space.sample()\n",
    "\n",
    "    def record(self, state, action, reward, next_state, done):\n",
    "        self.memory.push(state, action, reward, next_state, done)\n",
    "        if len(self.memory) > self.batch_size and self.learning:\n",
    "            self.learn()\n",
    "            self.updates += 1\n",
    "            if self.updates % self.copy_target_every == 0:\n",
    "                self.target_network.load_state_dict(self.policy_network.state_dict())\n",
    "    def learn(self):\n",
    "        batch = self.memory.sample(self.batch_size)\n",
    "        ## Create tensors for the batch\n",
    "        states = torch.stack([experience[\"state\"] for experience in batch]).to(device)\n",
    "        actions = torch.tensor([experience[\"action\"] for experience in batch]).to(device)\n",
    "        rewards = torch.tensor([experience[\"reward\"] for experience in batch]).to(device)\n",
    "        next_states = torch.stack([experience[\"next_state\"] for experience in batch]).to(device)\n",
    "        dones = torch.tensor([experience[\"done\"] for experience in batch])\n",
    "        with torch.no_grad(): ## No backprop here, just for the target (i.e. ground truth)\n",
    "            next_state_values = self.target_network(next_states).max(1)[0]\n",
    "        target = rewards + (self.gamma * next_state_values)  # $y_i = r + \\gamma \\max_{a'} Q(s', a', \\theta^-)$\n",
    "        target[dones] = 0\n",
    "        predicted = self.policy_network(states).gather(1, actions.unsqueeze(1)).squeeze(1) # $Q(s, a, \\theta)$\n",
    "        criterion = nn.SmoothL1Loss()\n",
    "        loss = criterion(predicted, target)\n",
    "        self.optimizer.zero_grad()\n",
    "        loss.backward()\n",
    "        self.optimizer.step()\n"
   ],
   "metadata": {
    "collapsed": false,
    "pycharm": {
     "name": "#%%\n"
    },
    "ExecuteTime": {
     "end_time": "2023-05-24T15:46:30.489380845Z",
     "start_time": "2023-05-24T15:46:30.489309258Z"
    }
   }
  },
  {
   "cell_type": "code",
   "execution_count": 12,
   "outputs": [],
   "source": [
    "## Episode\n",
    "\n",
    "def run_episode(env, agent, render):\n",
    "    state = env.reset()[0]\n",
    "    total_reward = 0\n",
    "    done = False\n",
    "    while not done:\n",
    "        render.render(env.render()) ## Used for rendering purposes\n",
    "        action = agent.act_epsilon_greedy(torch.tensor(state, dtype=torch.float32, device=device))\n",
    "        next_state, reward, terminated, truncated, info = env.step(action)\n",
    "        agent.record(torch.tensor(state, dtype=torch.float32, device=device), action, reward, torch.tensor(next_state, dtype=torch.float32, device=device), done)\n",
    "        state = next_state\n",
    "        done = terminated or truncated\n",
    "        total_reward += reward\n",
    "    return total_reward\n"
   ],
   "metadata": {
    "collapsed": false,
    "pycharm": {
     "name": "#%%\n"
    },
    "ExecuteTime": {
     "end_time": "2023-05-24T15:46:30.489429953Z",
     "start_time": "2023-05-24T15:46:30.489355124Z"
    }
   }
  },
  {
   "cell_type": "code",
   "execution_count": 13,
   "outputs": [],
   "source": [
    "def train(env, agent, episodes, render):\n",
    "    rewards = []\n",
    "    for episode in range(episodes):\n",
    "        reward = run_episode(env, agent, render)\n",
    "        agent.epsilon.decay()\n",
    "        rewards.append(reward)\n",
    "        print(f\"Episode: {episode}, Reward: {reward}, Epsilon {agent.epsilon()}\")\n",
    "        ## Plot the rewards\n",
    "        plt.clf()\n",
    "        plt.title(f'Training...  Episode: {episode}')\n",
    "        plt.xlabel('Episode')\n",
    "        plt.ylabel('Duration')\n",
    "        plt.plot(rewards)\n",
    "        display.display(plt.gcf())\n",
    "        render.update()\n",
    "        display.clear_output(wait=True)\n",
    "    return rewards"
   ],
   "metadata": {
    "collapsed": false,
    "pycharm": {
     "name": "#%%\n"
    },
    "ExecuteTime": {
     "end_time": "2023-05-24T15:46:30.489469951Z",
     "start_time": "2023-05-24T15:46:30.489403670Z"
    }
   }
  },
  {
   "cell_type": "code",
   "execution_count": null,
   "outputs": [
    {
     "name": "stdout",
     "output_type": "stream",
     "text": [
      "Episode: 321, Reward: 214.72763041343364, Epsilon 0.05\n"
     ]
    },
    {
     "data": {
      "text/plain": "<Figure size 640x480 with 1 Axes>",
      "image/png": "[encoded data removed]"
     },
     "metadata": {},
     "output_type": "display_data"
    }
   ],
   "source": [
    "# Create the environment\n",
    "torch.manual_seed(42)\n",
    "from random import seed\n",
    "seed(42)\n",
    "env = gym.make('LunarLander-v2', render_mode=\"rgb_array\")\n",
    "## Initialize the networks\n",
    "n_observations = env.observation_space.shape[0]\n",
    "n_actions = env.action_space.n\n",
    "hidden_size = 256\n",
    "network = DQN(n_observations, n_actions, hidden_size).to(device)\n",
    "memory = ReplayMemory(10000)\n",
    "batch_size = 128\n",
    "gamma = 0.99\n",
    "learning_rate = 1e-4\n",
    "epsilon = ExponentialDecay(0.9, 0.05, 0.99)\n",
    "agent = DQNAgent(network, memory, batch_size, gamma, learning_rate, epsilon, env.action_space, 1000)\n",
    "\n",
    "train(env, agent, 1000, render=OnRenderer(100))\n",
    "\"Trained...\""
   ],
   "metadata": {
    "collapsed": false,
    "pycharm": {
     "name": "#%%\n"
    },
    "is_executing": true
   }
  }
 ],
 "metadata": {
  "colab": {
   "provenance": []
  },
  "kernelspec": {
   "display_name": "Python 3 (ipykernel)",
   "language": "python",
   "name": "python3"
  },
  "language_info": {
   "codemirror_mode": {
    "name": "ipython",
    "version": 3
   },
   "file_extension": ".py",
   "mimetype": "text/x-python",
   "name": "python",
   "nbconvert_exporter": "python",
   "pygments_lexer": "ipython3",
   "version": "3.9.13"
  }
 },
 "nbformat": 4,
 "nbformat_minor": 1
}
