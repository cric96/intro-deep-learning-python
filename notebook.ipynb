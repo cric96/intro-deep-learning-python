{
 "cells": [
  {
   "cell_type": "markdown",
   "source": [
    "# Hand-On in Deep Reinforcement Learning in Python\n"
   ],
   "metadata": {
    "collapsed": false,
    "pycharm": {
     "name": "#%% md\n"
    }
   }
  },
  {
   "cell_type": "markdown",
   "source": [
    "## Requirements"
   ],
   "metadata": {
    "collapsed": false,
    "pycharm": {
     "name": "#%% md\n"
    }
   }
  },
  {
   "cell_type": "markdown",
   "source": [
    "### Deep Learning and Reinforcement Learning Library\n",
    "- Gym\n",
    "- PyTorch\n",
    "- Stable Baselines 3"
   ],
   "metadata": {
    "collapsed": false,
    "pycharm": {
     "name": "#%% md\n"
    }
   }
  },
  {
   "cell_type": "code",
   "execution_count": 1,
   "outputs": [],
   "source": [
    "!pip install swig==4.1.1 > /dev/null 2>&1\n",
    "!pip install box2d-py==2.3.5 > /dev/null 2>&1\n",
    "!pip install numpy==1.21.5 > /dev/null 2>&1\n",
    "!pip install 'gymnasium[box2d]==0.28.1' > /dev/null 2>&1"
   ],
   "metadata": {
    "collapsed": false,
    "pycharm": {
     "name": "#%%\n"
    }
   }
  },
  {
   "cell_type": "markdown",
   "source": [
    "### Visualization Libraries\n",
    "- Virtualdisplay"
   ],
   "metadata": {
    "collapsed": false,
    "pycharm": {
     "name": "#%% md\n"
    }
   }
  },
  {
   "cell_type": "code",
   "execution_count": 2,
   "metadata": {
    "colab": {
     "base_uri": "https://localhost:8080/"
    },
    "id": "zs0drRxGKOfH",
    "outputId": "537e8c52-73f3-4585-a2da-5c6eb46a7c62",
    "pycharm": {
     "name": "#%%\n"
    }
   },
   "outputs": [],
   "source": [
    "!apt-get install -y xvfb x11-utils > /dev/null 2>&1\n",
    "!pip install matplotlib > /dev/null 2>&1\n",
    "!pip install 'pyvirtualdisplay==0.2.*'  'PyOpenGL==3.1.*' 'PyOpenGL-accelerate==3.1.*' > /dev/null 2>&1"
   ]
  },
  {
   "cell_type": "code",
   "execution_count": 3,
   "metadata": {
    "id": "mRyYYPy7R2hi",
    "pycharm": {
     "name": "#%%\n"
    }
   },
   "outputs": [
    {
     "data": {
      "text/plain": "<Display cmd_param=['Xvfb', '-br', '-nolisten', 'tcp', '-screen', '0', '1400x900x24', ':1001'] cmd=['Xvfb', '-br', '-nolisten', 'tcp', '-screen', '0', '1400x900x24', ':1001'] oserror=None return_code=None stdout=\"None\" stderr=\"None\" timeout_happened=False>"
     },
     "execution_count": 3,
     "metadata": {},
     "output_type": "execute_result"
    }
   ],
   "source": [
    "import pyvirtualdisplay\n",
    "pyvirtualdisplay.Display(visible=False, size=(1400, 900)).start()"
   ]
  },
  {
   "cell_type": "markdown",
   "source": [
    "### Gym Basics\n",
    "Simple example of how to interact with the environment"
   ],
   "metadata": {
    "collapsed": false,
    "pycharm": {
     "name": "#%% md\n"
    }
   }
  },
  {
   "cell_type": "code",
   "execution_count": 6,
   "metadata": {
    "colab": {
     "base_uri": "https://localhost:8080/",
     "height": 367
    },
    "id": "nG3zCpDsJQfz",
    "outputId": "d23d6d42-287e-45e9-8355-70de9e36e608",
    "pycharm": {
     "name": "#%%\n"
    }
   },
   "outputs": [
    {
     "data": {
      "text/plain": "<Figure size 640x480 with 1 Axes>",
      "image/png": "[encoded data removed]"
     },
     "metadata": {},
     "output_type": "display_data"
    }
   ],
   "source": [
    "import gymnasium as gym\n",
    "import copy\n",
    "### From rendering\n",
    "from IPython import display\n",
    "import matplotlib.pyplot as plt\n",
    "## Create environment\n",
    "env = gym.make(\"CarRacing-v2\", render_mode=\"rgb_array\", continuous=False)\n",
    "env.reset() ## When the env is created it should be reset to initialize the state\n",
    "img = plt.imshow(env.render()) ## Used for rendering purposes\n",
    "print(env.action_space.sample())\n",
    "for i in range(1000): ## Run for 1000 steps\n",
    "    env.step(env.action_space.sample()) ## Pick a random action and progress the environment\n",
    "    img.set_data(env.render())\n",
    "    plt.axis('off')\n",
    "    display.display(plt.gcf())\n",
    "    display.clear_output(wait=True)"
   ]
  },
  {
   "cell_type": "code",
   "execution_count": 7,
   "outputs": [],
   "source": [
    "import torch\n",
    "import torch.nn as nn\n",
    "import torch.nn.functional as F\n",
    "import torch.optim as optim\n",
    "## For the memory\n",
    "\n",
    "from random import random\n",
    "from random import sample\n",
    "from collections import namedtuple, deque"
   ],
   "metadata": {
    "collapsed": false,
    "pycharm": {
     "name": "#%%\n"
    }
   }
  },
  {
   "cell_type": "code",
   "execution_count": 8,
   "outputs": [],
   "source": [
    "# if GPU is to be used\n",
    "device = torch.device(\"cuda\" if torch.cuda.is_available() else \"cpu\")"
   ],
   "metadata": {
    "collapsed": false,
    "pycharm": {
     "name": "#%%\n"
    }
   }
  },
  {
   "cell_type": "code",
   "execution_count": 9,
   "outputs": [],
   "source": [
    "def create_experience(state, action, reward, next_state, done):\n",
    "    return {\n",
    "        \"state\" : state, \"action\" : action, \"reward\" : reward, \"next_state\" : next_state, \"done\" : done\n",
    "    }\n",
    "\n",
    "class ReplayMemory(object):\n",
    "\n",
    "    def __init__(self, capacity):\n",
    "        self.memory = deque([], maxlen=capacity)\n",
    "\n",
    "    def push(self, *args):\n",
    "        self.memory.append(create_experience(*args))\n",
    "\n",
    "    def sample(self, batch_size):\n",
    "        return sample(self.memory, batch_size)\n",
    "\n",
    "\n",
    "    def __len__(self):\n",
    "        return len(self.memory)\n"
   ],
   "metadata": {
    "collapsed": false,
    "pycharm": {
     "name": "#%%\n"
    }
   }
  },
  {
   "cell_type": "code",
   "execution_count": 10,
   "outputs": [],
   "source": [
    "class DQN(nn.Module):\n",
    "    def __init__(self, n_observations, n_actions, hidden_size):\n",
    "        super(DQN, self).__init__()\n",
    "        self.layer1 = nn.Linear(n_observations, hidden_size)\n",
    "        self.layer2 = nn.Linear(hidden_size, hidden_size)\n",
    "        self.layer3 = nn.Linear(hidden_size, n_actions)\n",
    "\n",
    "    def forward(self, x):\n",
    "        x = F.relu(self.layer1(x))\n",
    "        x = F.relu(self.layer2(x))\n",
    "        return self.layer3(x)"
   ],
   "metadata": {
    "collapsed": false,
    "pycharm": {
     "name": "#%%\n"
    }
   }
  },
  {
   "cell_type": "code",
   "execution_count": 11,
   "outputs": [],
   "source": [
    "import math\n",
    "# Exponential decay that decays from start to end. After each call to decay it should reduce the value by decay_rate\n",
    "class ExponentialDecay:\n",
    "    def __init__(self, start, end, decay_rate):\n",
    "        self.start = start\n",
    "        self.end = end\n",
    "        self.decay_rate = decay_rate\n",
    "        self.value = start\n",
    "        self.initial = start\n",
    "    def decay(self):\n",
    "        self.value = max(self.end, self.value * self.decay_rate)\n",
    "\n",
    "    def __call__(self):\n",
    "        return self.value\n",
    "\n",
    "    def reset(self):\n",
    "        self.value = self.initial"
   ],
   "metadata": {
    "collapsed": false,
    "pycharm": {
     "name": "#%%\n"
    }
   }
  },
  {
   "cell_type": "code",
   "execution_count": 61,
   "outputs": [],
   "source": [
    "import copy\n",
    "\n",
    "class DQNAgent:\n",
    "    def __init__(self, network, memory, batch_size, gamma, learning_rate, epsilon, action_space, copy_target_every=100):\n",
    "        self.policy_network = network\n",
    "        self.target_network = copy.deepcopy(network)\n",
    "        self.policy_network.train()\n",
    "        self.target_network.train()\n",
    "        self.memory = memory\n",
    "        self.batch_size = batch_size\n",
    "        self.gamma = gamma\n",
    "        self.learning_rate = learning_rate\n",
    "        self.optimizer = optim.AdamW(self.policy_network.parameters(), lr=learning_rate, amsgrad=True)\n",
    "        self.epsilon = epsilon\n",
    "        self.copy_target_every = copy_target_every\n",
    "        self.updates = 0\n",
    "        self.action_space = action_space\n",
    "        self.learning = True\n",
    "\n",
    "    def eval(self):\n",
    "        self.policy_network.eval()\n",
    "        self.target_network.eval()\n",
    "        self.learning = False\n",
    "\n",
    "    def train(self):\n",
    "        self.policy_network.train()\n",
    "        self.target_network.train()\n",
    "        self.learning = True\n",
    "\n",
    "    def act(self, state):\n",
    "        with torch.no_grad():\n",
    "            return self.policy_network(state).max(0)[1].item()\n",
    "\n",
    "    def act_epsilon_greedy(self, state):\n",
    "        if random() > self.epsilon():\n",
    "            return self.act(state)\n",
    "        else:\n",
    "            return self.action_space.sample()\n",
    "\n",
    "    def record(self, state, action, reward, next_state, done):\n",
    "        self.memory.push(state, action, reward, next_state, done)\n",
    "        if len(self.memory) > self.batch_size and self.learning:\n",
    "            self.learn()\n",
    "            self.updates += 1\n",
    "            if self.updates % self.copy_target_every == 0:\n",
    "                self.target_network.load_state_dict(self.policy_network.state_dict())\n",
    "            #target_net_state_dict = self.target_network.state_dict()\n",
    "            #policy_net_state_dict = self.policy_network.state_dict()\n",
    "            #for key in policy_net_state_dict:\n",
    "            #    target_net_state_dict[key] = policy_net_state_dict[key]*TAU + target_net_state_dict[key]*(1-TAU)\n",
    "            #self.target_network.load_state_dict(target_net_state_dict)\n",
    "    def learn(self):\n",
    "        batch = self.memory.sample(self.batch_size)\n",
    "        ## Create tensors for the batch\n",
    "        states = torch.stack([experience[\"state\"] for experience in batch]).to(device)\n",
    "        actions = torch.tensor([experience[\"action\"] for experience in batch]).to(device)\n",
    "        rewards = torch.tensor([experience[\"reward\"] for experience in batch]).to(device)\n",
    "        next_states = torch.stack([experience[\"next_state\"] for experience in batch]).to(device)\n",
    "        dones = torch.tensor([experience[\"done\"] for experience in batch])\n",
    "        with torch.no_grad(): ## No backprop here, just for the target (i.e. ground truth)\n",
    "            next_state_values = self.target_network(next_states).max(1)[0]\n",
    "        target = rewards + (self.gamma * next_state_values)  # $y_i = r + \\gamma \\max_{a'} Q(s', a', \\theta^-)$\n",
    "        target[dones] = 0\n",
    "        predicted = self.policy_network(states).gather(1, actions.unsqueeze(1)).squeeze(1) # $Q(s, a, \\theta)$\n",
    "        criterion = nn.SmoothL1Loss()\n",
    "        loss = criterion(predicted, target)\n",
    "        self.optimizer.zero_grad()\n",
    "        loss.backward()\n",
    "        self.optimizer.step()\n"
   ],
   "metadata": {
    "collapsed": false,
    "pycharm": {
     "name": "#%%\n"
    }
   }
  },
  {
   "cell_type": "code",
   "execution_count": 31,
   "outputs": [],
   "source": [
    "## Episode\n",
    "def run_episode(env, agent, render=False):\n",
    "    state = env.reset()[0]\n",
    "    img = plt.imshow(env.render()) ## Used for rendering purposes\n",
    "    total_reward = 0\n",
    "    done = False\n",
    "    while not done:\n",
    "        if render:\n",
    "            img.set_data(env.render())\n",
    "            plt.axis('off')\n",
    "            display.display(plt.gcf())\n",
    "            display.clear_output(wait=True)\n",
    "        action = agent.act_epsilon_greedy(torch.tensor(state, dtype=torch.float32, device=device))\n",
    "        next_state, reward, terminated, truncated, info = env.step(action)\n",
    "        agent.record(torch.tensor(state, dtype=torch.float32, device=device), action, reward, torch.tensor(next_state, dtype=torch.float32, device=device), done)\n",
    "        state = next_state\n",
    "        done = terminated or truncated\n",
    "        total_reward += reward\n",
    "    return total_reward\n"
   ],
   "metadata": {
    "collapsed": false,
    "pycharm": {
     "name": "#%%\n"
    }
   }
  },
  {
   "cell_type": "code",
   "execution_count": 14,
   "outputs": [],
   "source": [
    "def train(env, agent, episodes, render=False):\n",
    "    rewards = []\n",
    "    for episode in range(episodes):\n",
    "        reward = run_episode(env, agent, render)\n",
    "        agent.epsilon.decay()\n",
    "        rewards.append(reward)\n",
    "        print(f\"Episode: {episode}, Reward: {reward}, Epsilon {agent.epsilon()}\")\n",
    "    return rewards\n"
   ],
   "metadata": {
    "collapsed": false,
    "pycharm": {
     "name": "#%%\n"
    }
   }
  },
  {
   "cell_type": "code",
   "execution_count": 63,
   "outputs": [
    {
     "name": "stdout",
     "output_type": "stream",
     "text": [
      "Episode: 0, Reward: -500.0, Epsilon 0.891\n",
      "Episode: 1, Reward: -500.0, Epsilon 0.88209\n",
      "Episode: 2, Reward: -500.0, Epsilon 0.8732691\n",
      "Episode: 3, Reward: -500.0, Epsilon 0.8645364090000001\n",
      "Episode: 4, Reward: -500.0, Epsilon 0.85589104491\n",
      "Episode: 5, Reward: -500.0, Epsilon 0.8473321344609\n",
      "Episode: 6, Reward: -500.0, Epsilon 0.8388588131162911\n",
      "Episode: 7, Reward: -500.0, Epsilon 0.8304702249851281\n",
      "Episode: 8, Reward: -500.0, Epsilon 0.8221655227352769\n",
      "Episode: 9, Reward: -500.0, Epsilon 0.8139438675079241\n",
      "Episode: 10, Reward: -500.0, Epsilon 0.8058044288328449\n",
      "Episode: 11, Reward: -500.0, Epsilon 0.7977463845445164\n",
      "Episode: 12, Reward: -500.0, Epsilon 0.7897689206990712\n",
      "Episode: 13, Reward: -408.0, Epsilon 0.7818712314920805\n",
      "Episode: 14, Reward: -500.0, Epsilon 0.7740525191771597\n",
      "Episode: 15, Reward: -500.0, Epsilon 0.7663119939853881\n",
      "Episode: 16, Reward: -355.0, Epsilon 0.7586488740455342\n",
      "Episode: 17, Reward: -500.0, Epsilon 0.7510623853050789\n",
      "Episode: 18, Reward: -500.0, Epsilon 0.7435517614520281\n",
      "Episode: 19, Reward: -500.0, Epsilon 0.7361162438375077\n",
      "Episode: 20, Reward: -500.0, Epsilon 0.7287550813991327\n",
      "Episode: 21, Reward: -500.0, Epsilon 0.7214675305851413\n",
      "Episode: 22, Reward: -343.0, Epsilon 0.7142528552792899\n",
      "Episode: 23, Reward: -492.0, Epsilon 0.707110326726497\n",
      "Episode: 24, Reward: -277.0, Epsilon 0.700039223459232\n",
      "Episode: 25, Reward: -500.0, Epsilon 0.6930388312246396\n",
      "Episode: 26, Reward: -500.0, Epsilon 0.6861084429123933\n",
      "Episode: 27, Reward: -249.0, Epsilon 0.6792473584832693\n",
      "Episode: 28, Reward: -500.0, Epsilon 0.6724548848984366\n",
      "Episode: 29, Reward: -413.0, Epsilon 0.6657303360494523\n",
      "Episode: 30, Reward: -500.0, Epsilon 0.6590730326889578\n",
      "Episode: 31, Reward: -500.0, Epsilon 0.6524823023620682\n",
      "Episode: 32, Reward: -440.0, Epsilon 0.6459574793384475\n",
      "Episode: 33, Reward: -383.0, Epsilon 0.6394979045450631\n",
      "Episode: 34, Reward: -500.0, Epsilon 0.6331029254996124\n",
      "Episode: 35, Reward: -440.0, Epsilon 0.6267718962446163\n",
      "Episode: 36, Reward: -390.0, Epsilon 0.6205041772821701\n",
      "Episode: 37, Reward: -291.0, Epsilon 0.6142991355093484\n",
      "Episode: 38, Reward: -297.0, Epsilon 0.608156144154255\n",
      "Episode: 39, Reward: -279.0, Epsilon 0.6020745827127124\n",
      "Episode: 40, Reward: -319.0, Epsilon 0.5960538368855853\n",
      "Episode: 41, Reward: -468.0, Epsilon 0.5900932985167294\n",
      "Episode: 42, Reward: -282.0, Epsilon 0.5841923655315622\n",
      "Episode: 43, Reward: -242.0, Epsilon 0.5783504418762465\n",
      "Episode: 44, Reward: -231.0, Epsilon 0.572566937457484\n",
      "Episode: 45, Reward: -333.0, Epsilon 0.5668412680829091\n",
      "Episode: 46, Reward: -500.0, Epsilon 0.5611728554020801\n",
      "Episode: 47, Reward: -227.0, Epsilon 0.5555611268480593\n",
      "Episode: 48, Reward: -220.0, Epsilon 0.5500055155795787\n",
      "Episode: 49, Reward: -169.0, Epsilon 0.5445054604237829\n",
      "Episode: 50, Reward: -320.0, Epsilon 0.5390604058195451\n",
      "Episode: 51, Reward: -345.0, Epsilon 0.5336698017613496\n",
      "Episode: 52, Reward: -185.0, Epsilon 0.5283331037437361\n",
      "Episode: 53, Reward: -247.0, Epsilon 0.5230497727062987\n",
      "Episode: 54, Reward: -212.0, Epsilon 0.5178192749792357\n",
      "Episode: 55, Reward: -248.0, Epsilon 0.5126410822294434\n",
      "Episode: 56, Reward: -216.0, Epsilon 0.5075146714071489\n",
      "Episode: 57, Reward: -487.0, Epsilon 0.5024395246930774\n",
      "Episode: 58, Reward: -167.0, Epsilon 0.49741512944614663\n",
      "Episode: 59, Reward: -344.0, Epsilon 0.49244097815168514\n",
      "Episode: 60, Reward: -237.0, Epsilon 0.48751656837016827\n",
      "Episode: 61, Reward: -233.0, Epsilon 0.4826414026864666\n",
      "Episode: 62, Reward: -234.0, Epsilon 0.4778149886596019\n",
      "Episode: 63, Reward: -257.0, Epsilon 0.4730368387730059\n",
      "Episode: 64, Reward: -241.0, Epsilon 0.46830647038527584\n",
      "Episode: 65, Reward: -185.0, Epsilon 0.4636234056814231\n",
      "Episode: 66, Reward: -500.0, Epsilon 0.45898717162460884\n",
      "Episode: 67, Reward: -197.0, Epsilon 0.45439729990836275\n",
      "Episode: 68, Reward: -271.0, Epsilon 0.4498533269092791\n",
      "Episode: 69, Reward: -500.0, Epsilon 0.4453547936401863\n",
      "Episode: 70, Reward: -175.0, Epsilon 0.4409012457037845\n",
      "Episode: 71, Reward: -219.0, Epsilon 0.43649223324674663\n",
      "Episode: 72, Reward: -210.0, Epsilon 0.43212731091427914\n",
      "Episode: 73, Reward: -211.0, Epsilon 0.4278060378051363\n",
      "Episode: 74, Reward: -164.0, Epsilon 0.423527977427085\n",
      "Episode: 75, Reward: -277.0, Epsilon 0.41929269765281413\n",
      "Episode: 76, Reward: -163.0, Epsilon 0.415099770676286\n",
      "Episode: 77, Reward: -203.0, Epsilon 0.41094877296952315\n",
      "Episode: 78, Reward: -290.0, Epsilon 0.40683928523982793\n",
      "Episode: 79, Reward: -179.0, Epsilon 0.40277089238742964\n",
      "Episode: 80, Reward: -274.0, Epsilon 0.39874318346355536\n",
      "Episode: 81, Reward: -140.0, Epsilon 0.3947557516289198\n",
      "Episode: 82, Reward: -252.0, Epsilon 0.39080819411263057\n",
      "Episode: 83, Reward: -153.0, Epsilon 0.3869001121715043\n",
      "Episode: 84, Reward: -181.0, Epsilon 0.3830311110497892\n",
      "Episode: 85, Reward: -146.0, Epsilon 0.3792007999392913\n",
      "Episode: 86, Reward: -168.0, Epsilon 0.37540879193989835\n",
      "Episode: 87, Reward: -459.0, Epsilon 0.3716547040204994\n",
      "Episode: 88, Reward: -145.0, Epsilon 0.36793815698029436\n",
      "Episode: 89, Reward: -199.0, Epsilon 0.3642587754104914\n",
      "Episode: 90, Reward: -183.0, Epsilon 0.3606161876563865\n",
      "Episode: 91, Reward: -288.0, Epsilon 0.3570100257798226\n",
      "Episode: 92, Reward: -141.0, Epsilon 0.35343992552202436\n",
      "Episode: 93, Reward: -188.0, Epsilon 0.3499055262668041\n",
      "Episode: 94, Reward: -124.0, Epsilon 0.3464064710041361\n",
      "Episode: 95, Reward: -136.0, Epsilon 0.3429424062940947\n",
      "Episode: 96, Reward: -130.0, Epsilon 0.3395129822311538\n",
      "Episode: 97, Reward: -171.0, Epsilon 0.33611785240884223\n",
      "Episode: 98, Reward: -144.0, Epsilon 0.33275667388475383\n",
      "Episode: 99, Reward: -116.0, Epsilon 0.3294291071459063\n",
      "Episode: 100, Reward: -101.0, Epsilon 0.3261348160744472\n",
      "Episode: 101, Reward: -175.0, Epsilon 0.32287346791370275\n",
      "Episode: 102, Reward: -127.0, Epsilon 0.3196447332345657\n",
      "Episode: 103, Reward: -106.0, Epsilon 0.3164482859022201\n",
      "Episode: 104, Reward: -188.0, Epsilon 0.31328380304319786\n",
      "Episode: 105, Reward: -154.0, Epsilon 0.3101509650127659\n",
      "Episode: 106, Reward: -127.0, Epsilon 0.3070494553626382\n",
      "Episode: 107, Reward: -134.0, Epsilon 0.3039789608090118\n",
      "Episode: 108, Reward: -160.0, Epsilon 0.30093917120092173\n",
      "Episode: 109, Reward: -138.0, Epsilon 0.2979297794889125\n",
      "Episode: 110, Reward: -144.0, Epsilon 0.2949504816940234\n",
      "Episode: 111, Reward: -145.0, Epsilon 0.29200097687708315\n",
      "Episode: 112, Reward: -220.0, Epsilon 0.2890809671083123\n",
      "Episode: 113, Reward: -139.0, Epsilon 0.2861901574372292\n",
      "Episode: 114, Reward: -153.0, Epsilon 0.2833282558628569\n",
      "Episode: 115, Reward: -136.0, Epsilon 0.28049497330422835\n",
      "Episode: 116, Reward: -185.0, Epsilon 0.27769002357118605\n",
      "Episode: 117, Reward: -198.0, Epsilon 0.2749131233354742\n",
      "Episode: 118, Reward: -181.0, Epsilon 0.27216399210211945\n",
      "Episode: 119, Reward: -238.0, Epsilon 0.26944235218109824\n",
      "Episode: 120, Reward: -214.0, Epsilon 0.26674792865928726\n",
      "Episode: 121, Reward: -236.0, Epsilon 0.26408044937269437\n",
      "Episode: 122, Reward: -304.0, Epsilon 0.2614396448789674\n",
      "Episode: 123, Reward: -189.0, Epsilon 0.25882524843017773\n",
      "Episode: 124, Reward: -370.0, Epsilon 0.25623699594587596\n",
      "Episode: 125, Reward: -132.0, Epsilon 0.2536746259864172\n",
      "Episode: 126, Reward: -167.0, Epsilon 0.25113787972655305\n",
      "Episode: 127, Reward: -218.0, Epsilon 0.2486265009292875\n",
      "Episode: 128, Reward: -176.0, Epsilon 0.24614023591999462\n",
      "Episode: 129, Reward: -136.0, Epsilon 0.24367883356079467\n",
      "Episode: 130, Reward: -176.0, Epsilon 0.24124204522518672\n",
      "Episode: 131, Reward: -131.0, Epsilon 0.23882962477293485\n",
      "Episode: 132, Reward: -254.0, Epsilon 0.2364413285252055\n",
      "Episode: 133, Reward: -252.0, Epsilon 0.23407691523995344\n",
      "Episode: 134, Reward: -100.0, Epsilon 0.2317361460875539\n",
      "Episode: 135, Reward: -131.0, Epsilon 0.22941878462667836\n",
      "Episode: 136, Reward: -182.0, Epsilon 0.22712459678041158\n",
      "Episode: 137, Reward: -201.0, Epsilon 0.22485335081260746\n",
      "Episode: 138, Reward: -362.0, Epsilon 0.2226048173044814\n",
      "Episode: 139, Reward: -150.0, Epsilon 0.22037876913143659\n",
      "Episode: 140, Reward: -207.0, Epsilon 0.2181749814401222\n",
      "Episode: 141, Reward: -148.0, Epsilon 0.21599323162572098\n",
      "Episode: 142, Reward: -392.0, Epsilon 0.21383329930946376\n",
      "Episode: 143, Reward: -270.0, Epsilon 0.21169496631636914\n",
      "Episode: 144, Reward: -131.0, Epsilon 0.20957801665320544\n",
      "Episode: 145, Reward: -260.0, Epsilon 0.20748223648667338\n",
      "Episode: 146, Reward: -162.0, Epsilon 0.20540741412180666\n",
      "Episode: 147, Reward: -129.0, Epsilon 0.20335333998058858\n",
      "Episode: 148, Reward: -114.0, Epsilon 0.2013198065807827\n",
      "Episode: 149, Reward: -297.0, Epsilon 0.19930660851497486\n",
      "Episode: 150, Reward: -184.0, Epsilon 0.1973135424298251\n",
      "Episode: 151, Reward: -172.0, Epsilon 0.19534040700552685\n",
      "Episode: 152, Reward: -215.0, Epsilon 0.1933870029354716\n",
      "Episode: 153, Reward: -222.0, Epsilon 0.19145313290611687\n",
      "Episode: 154, Reward: -277.0, Epsilon 0.1895386015770557\n",
      "Episode: 155, Reward: -151.0, Epsilon 0.18764321556128516\n",
      "Episode: 156, Reward: -266.0, Epsilon 0.1857667834056723\n",
      "Episode: 157, Reward: -298.0, Epsilon 0.18390911557161557\n",
      "Episode: 158, Reward: -458.0, Epsilon 0.18207002441589942\n",
      "Episode: 159, Reward: -170.0, Epsilon 0.18024932417174042\n",
      "Episode: 160, Reward: -140.0, Epsilon 0.178446830930023\n",
      "Episode: 161, Reward: -258.0, Epsilon 0.17666236262072277\n",
      "Episode: 162, Reward: -208.0, Epsilon 0.17489573899451555\n",
      "Episode: 163, Reward: -242.0, Epsilon 0.1731467816045704\n",
      "Episode: 164, Reward: -212.0, Epsilon 0.17141531378852468\n"
     ]
    },
    {
     "ename": "KeyboardInterrupt",
     "evalue": "",
     "output_type": "error",
     "traceback": [
      "\u001B[0;31m---------------------------------------------------------------------------\u001B[0m",
      "\u001B[0;31mKeyboardInterrupt\u001B[0m                         Traceback (most recent call last)",
      "Cell \u001B[0;32mIn[63], line 16\u001B[0m\n\u001B[1;32m     13\u001B[0m epsilon \u001B[38;5;241m=\u001B[39m ExponentialDecay(\u001B[38;5;241m0.9\u001B[39m, \u001B[38;5;241m0.05\u001B[39m, \u001B[38;5;241m0.99\u001B[39m)\n\u001B[1;32m     14\u001B[0m agent \u001B[38;5;241m=\u001B[39m DQNAgent(network, memory, batch_size, gamma, learning_rate, epsilon, env\u001B[38;5;241m.\u001B[39maction_space, \u001B[38;5;241m1000\u001B[39m)\n\u001B[0;32m---> 16\u001B[0m \u001B[43mtrain\u001B[49m\u001B[43m(\u001B[49m\u001B[43menv\u001B[49m\u001B[43m,\u001B[49m\u001B[43m \u001B[49m\u001B[43magent\u001B[49m\u001B[43m,\u001B[49m\u001B[43m \u001B[49m\u001B[38;5;241;43m1000\u001B[39;49m\u001B[43m,\u001B[49m\u001B[43m \u001B[49m\u001B[43mrender\u001B[49m\u001B[38;5;241;43m=\u001B[39;49m\u001B[38;5;28;43;01mFalse\u001B[39;49;00m\u001B[43m)\u001B[49m\n",
      "Cell \u001B[0;32mIn[14], line 4\u001B[0m, in \u001B[0;36mtrain\u001B[0;34m(env, agent, episodes, render)\u001B[0m\n\u001B[1;32m      2\u001B[0m rewards \u001B[38;5;241m=\u001B[39m []\n\u001B[1;32m      3\u001B[0m \u001B[38;5;28;01mfor\u001B[39;00m episode \u001B[38;5;129;01min\u001B[39;00m \u001B[38;5;28mrange\u001B[39m(episodes):\n\u001B[0;32m----> 4\u001B[0m     reward \u001B[38;5;241m=\u001B[39m \u001B[43mrun_episode\u001B[49m\u001B[43m(\u001B[49m\u001B[43menv\u001B[49m\u001B[43m,\u001B[49m\u001B[43m \u001B[49m\u001B[43magent\u001B[49m\u001B[43m,\u001B[49m\u001B[43m \u001B[49m\u001B[43mrender\u001B[49m\u001B[43m)\u001B[49m\n\u001B[1;32m      5\u001B[0m     agent\u001B[38;5;241m.\u001B[39mepsilon\u001B[38;5;241m.\u001B[39mdecay()\n\u001B[1;32m      6\u001B[0m     rewards\u001B[38;5;241m.\u001B[39mappend(reward)\n",
      "Cell \u001B[0;32mIn[31], line 16\u001B[0m, in \u001B[0;36mrun_episode\u001B[0;34m(env, agent, render)\u001B[0m\n\u001B[1;32m     14\u001B[0m next_state, reward, terminated, truncated, info \u001B[38;5;241m=\u001B[39m env\u001B[38;5;241m.\u001B[39mstep(action)\n\u001B[1;32m     15\u001B[0m done \u001B[38;5;241m=\u001B[39m terminated \u001B[38;5;129;01mor\u001B[39;00m truncated\n\u001B[0;32m---> 16\u001B[0m \u001B[43magent\u001B[49m\u001B[38;5;241;43m.\u001B[39;49m\u001B[43mrecord\u001B[49m\u001B[43m(\u001B[49m\u001B[43mtorch\u001B[49m\u001B[38;5;241;43m.\u001B[39;49m\u001B[43mtensor\u001B[49m\u001B[43m(\u001B[49m\u001B[43mstate\u001B[49m\u001B[43m,\u001B[49m\u001B[43m \u001B[49m\u001B[43mdtype\u001B[49m\u001B[38;5;241;43m=\u001B[39;49m\u001B[43mtorch\u001B[49m\u001B[38;5;241;43m.\u001B[39;49m\u001B[43mfloat32\u001B[49m\u001B[43m,\u001B[49m\u001B[43m \u001B[49m\u001B[43mdevice\u001B[49m\u001B[38;5;241;43m=\u001B[39;49m\u001B[43mdevice\u001B[49m\u001B[43m)\u001B[49m\u001B[43m,\u001B[49m\u001B[43m \u001B[49m\u001B[43maction\u001B[49m\u001B[43m,\u001B[49m\u001B[43m \u001B[49m\u001B[43mreward\u001B[49m\u001B[43m,\u001B[49m\u001B[43m \u001B[49m\u001B[43mtorch\u001B[49m\u001B[38;5;241;43m.\u001B[39;49m\u001B[43mtensor\u001B[49m\u001B[43m(\u001B[49m\u001B[43mnext_state\u001B[49m\u001B[43m,\u001B[49m\u001B[43m \u001B[49m\u001B[43mdtype\u001B[49m\u001B[38;5;241;43m=\u001B[39;49m\u001B[43mtorch\u001B[49m\u001B[38;5;241;43m.\u001B[39;49m\u001B[43mfloat32\u001B[49m\u001B[43m,\u001B[49m\u001B[43m \u001B[49m\u001B[43mdevice\u001B[49m\u001B[38;5;241;43m=\u001B[39;49m\u001B[43mdevice\u001B[49m\u001B[43m)\u001B[49m\u001B[43m,\u001B[49m\u001B[43m \u001B[49m\u001B[43mdone\u001B[49m\u001B[43m)\u001B[49m\n\u001B[1;32m     17\u001B[0m state \u001B[38;5;241m=\u001B[39m next_state\n\u001B[1;32m     18\u001B[0m total_reward \u001B[38;5;241m+\u001B[39m\u001B[38;5;241m=\u001B[39m reward\n",
      "Cell \u001B[0;32mIn[61], line 42\u001B[0m, in \u001B[0;36mDQNAgent.record\u001B[0;34m(self, state, action, reward, next_state, done)\u001B[0m\n\u001B[1;32m     40\u001B[0m \u001B[38;5;28mself\u001B[39m\u001B[38;5;241m.\u001B[39mmemory\u001B[38;5;241m.\u001B[39mpush(state, action, reward, next_state, done)\n\u001B[1;32m     41\u001B[0m \u001B[38;5;28;01mif\u001B[39;00m \u001B[38;5;28mlen\u001B[39m(\u001B[38;5;28mself\u001B[39m\u001B[38;5;241m.\u001B[39mmemory) \u001B[38;5;241m>\u001B[39m \u001B[38;5;28mself\u001B[39m\u001B[38;5;241m.\u001B[39mbatch_size \u001B[38;5;129;01mand\u001B[39;00m \u001B[38;5;28mself\u001B[39m\u001B[38;5;241m.\u001B[39mlearning:\n\u001B[0;32m---> 42\u001B[0m     \u001B[38;5;28;43mself\u001B[39;49m\u001B[38;5;241;43m.\u001B[39;49m\u001B[43mlearn\u001B[49m\u001B[43m(\u001B[49m\u001B[43m)\u001B[49m\n\u001B[1;32m     43\u001B[0m     \u001B[38;5;28mself\u001B[39m\u001B[38;5;241m.\u001B[39mupdates \u001B[38;5;241m+\u001B[39m\u001B[38;5;241m=\u001B[39m \u001B[38;5;241m1\u001B[39m\n\u001B[1;32m     44\u001B[0m     \u001B[38;5;28;01mif\u001B[39;00m \u001B[38;5;28mself\u001B[39m\u001B[38;5;241m.\u001B[39mupdates \u001B[38;5;241m%\u001B[39m \u001B[38;5;28mself\u001B[39m\u001B[38;5;241m.\u001B[39mcopy_target_every \u001B[38;5;241m==\u001B[39m \u001B[38;5;241m0\u001B[39m:\n",
      "Cell \u001B[0;32mIn[61], line 63\u001B[0m, in \u001B[0;36mDQNAgent.learn\u001B[0;34m(self)\u001B[0m\n\u001B[1;32m     61\u001B[0m target \u001B[38;5;241m=\u001B[39m rewards \u001B[38;5;241m+\u001B[39m (\u001B[38;5;28mself\u001B[39m\u001B[38;5;241m.\u001B[39mgamma \u001B[38;5;241m*\u001B[39m next_state_values)  \u001B[38;5;66;03m# $y_i = r + \\gamma \\max_{a'} Q(s', a', \\theta^-)$\u001B[39;00m\n\u001B[1;32m     62\u001B[0m target[dones] \u001B[38;5;241m=\u001B[39m \u001B[38;5;241m0\u001B[39m\n\u001B[0;32m---> 63\u001B[0m predicted \u001B[38;5;241m=\u001B[39m \u001B[38;5;28;43mself\u001B[39;49m\u001B[38;5;241;43m.\u001B[39;49m\u001B[43mpolicy_network\u001B[49m\u001B[43m(\u001B[49m\u001B[43mstates\u001B[49m\u001B[43m)\u001B[49m\u001B[38;5;241;43m.\u001B[39;49m\u001B[43mgather\u001B[49m\u001B[43m(\u001B[49m\u001B[38;5;241;43m1\u001B[39;49m\u001B[43m,\u001B[49m\u001B[43m \u001B[49m\u001B[43mactions\u001B[49m\u001B[38;5;241;43m.\u001B[39;49m\u001B[43munsqueeze\u001B[49m\u001B[43m(\u001B[49m\u001B[38;5;241;43m1\u001B[39;49m\u001B[43m)\u001B[49m\u001B[43m)\u001B[49m\u001B[38;5;241m.\u001B[39msqueeze(\u001B[38;5;241m1\u001B[39m) \u001B[38;5;66;03m# $Q(s, a, \\theta)$\u001B[39;00m\n\u001B[1;32m     64\u001B[0m criterion \u001B[38;5;241m=\u001B[39m nn\u001B[38;5;241m.\u001B[39mSmoothL1Loss()\n\u001B[1;32m     65\u001B[0m loss \u001B[38;5;241m=\u001B[39m criterion(predicted, target)\n",
      "\u001B[0;31mKeyboardInterrupt\u001B[0m: "
     ]
    },
    {
     "data": {
      "text/plain": "<Figure size 640x480 with 1 Axes>",
      "image/png": "[encoded data removed]"
     },
     "metadata": {},
     "output_type": "display_data"
    }
   ],
   "source": [
    "# Create the environment\n",
    "env = gym.make('Acrobot-v1', render_mode=\"rgb_array\")\n",
    "\n",
    "## Initialize the networks\n",
    "n_observations = env.observation_space.shape[0]\n",
    "n_actions = env.action_space.n\n",
    "hidden_size = 128\n",
    "network = DQN(n_observations, n_actions, hidden_size).to(device)\n",
    "memory = ReplayMemory(10000)\n",
    "batch_size = 128\n",
    "gamma = 0.99\n",
    "learning_rate = 1e-4\n",
    "epsilon = ExponentialDecay(0.9, 0.05, 0.99)\n",
    "agent = DQNAgent(network, memory, batch_size, gamma, learning_rate, epsilon, env.action_space, 1000)\n",
    "\n",
    "train(env, agent, 1000, render=False)"
   ],
   "metadata": {
    "collapsed": false,
    "pycharm": {
     "name": "#%%\n"
    }
   }
  },
  {
   "cell_type": "code",
   "execution_count": 64,
   "outputs": [
    {
     "ename": "KeyboardInterrupt",
     "evalue": "",
     "output_type": "error",
     "traceback": [
      "\u001B[0;31m---------------------------------------------------------------------------\u001B[0m",
      "\u001B[0;31mKeyboardInterrupt\u001B[0m                         Traceback (most recent call last)",
      "Cell \u001B[0;32mIn[64], line 1\u001B[0m\n\u001B[0;32m----> 1\u001B[0m \u001B[43mtrain\u001B[49m\u001B[43m(\u001B[49m\u001B[43menv\u001B[49m\u001B[43m,\u001B[49m\u001B[43m \u001B[49m\u001B[43magent\u001B[49m\u001B[43m,\u001B[49m\u001B[43m \u001B[49m\u001B[38;5;241;43m1000\u001B[39;49m\u001B[43m,\u001B[49m\u001B[43m \u001B[49m\u001B[43mrender\u001B[49m\u001B[38;5;241;43m=\u001B[39;49m\u001B[38;5;28;43;01mTrue\u001B[39;49;00m\u001B[43m)\u001B[49m\n",
      "Cell \u001B[0;32mIn[14], line 4\u001B[0m, in \u001B[0;36mtrain\u001B[0;34m(env, agent, episodes, render)\u001B[0m\n\u001B[1;32m      2\u001B[0m rewards \u001B[38;5;241m=\u001B[39m []\n\u001B[1;32m      3\u001B[0m \u001B[38;5;28;01mfor\u001B[39;00m episode \u001B[38;5;129;01min\u001B[39;00m \u001B[38;5;28mrange\u001B[39m(episodes):\n\u001B[0;32m----> 4\u001B[0m     reward \u001B[38;5;241m=\u001B[39m \u001B[43mrun_episode\u001B[49m\u001B[43m(\u001B[49m\u001B[43menv\u001B[49m\u001B[43m,\u001B[49m\u001B[43m \u001B[49m\u001B[43magent\u001B[49m\u001B[43m,\u001B[49m\u001B[43m \u001B[49m\u001B[43mrender\u001B[49m\u001B[43m)\u001B[49m\n\u001B[1;32m      5\u001B[0m     agent\u001B[38;5;241m.\u001B[39mepsilon\u001B[38;5;241m.\u001B[39mdecay()\n\u001B[1;32m      6\u001B[0m     rewards\u001B[38;5;241m.\u001B[39mappend(reward)\n",
      "Cell \u001B[0;32mIn[31], line 11\u001B[0m, in \u001B[0;36mrun_episode\u001B[0;34m(env, agent, render)\u001B[0m\n\u001B[1;32m      9\u001B[0m     img\u001B[38;5;241m.\u001B[39mset_data(env\u001B[38;5;241m.\u001B[39mrender())\n\u001B[1;32m     10\u001B[0m     plt\u001B[38;5;241m.\u001B[39maxis(\u001B[38;5;124m'\u001B[39m\u001B[38;5;124moff\u001B[39m\u001B[38;5;124m'\u001B[39m)\n\u001B[0;32m---> 11\u001B[0m     \u001B[43mdisplay\u001B[49m\u001B[38;5;241;43m.\u001B[39;49m\u001B[43mdisplay\u001B[49m\u001B[43m(\u001B[49m\u001B[43mplt\u001B[49m\u001B[38;5;241;43m.\u001B[39;49m\u001B[43mgcf\u001B[49m\u001B[43m(\u001B[49m\u001B[43m)\u001B[49m\u001B[43m)\u001B[49m\n\u001B[1;32m     12\u001B[0m     display\u001B[38;5;241m.\u001B[39mclear_output(wait\u001B[38;5;241m=\u001B[39m\u001B[38;5;28;01mTrue\u001B[39;00m)\n\u001B[1;32m     13\u001B[0m action \u001B[38;5;241m=\u001B[39m agent\u001B[38;5;241m.\u001B[39mact_epsilon_greedy(torch\u001B[38;5;241m.\u001B[39mtensor(state, dtype\u001B[38;5;241m=\u001B[39mtorch\u001B[38;5;241m.\u001B[39mfloat32, device\u001B[38;5;241m=\u001B[39mdevice))\n",
      "File \u001B[0;32m/usr/lib/python3.10/site-packages/IPython/core/display_functions.py:298\u001B[0m, in \u001B[0;36mdisplay\u001B[0;34m(include, exclude, metadata, transient, display_id, raw, clear, *objs, **kwargs)\u001B[0m\n\u001B[1;32m    296\u001B[0m     publish_display_data(data\u001B[38;5;241m=\u001B[39mobj, metadata\u001B[38;5;241m=\u001B[39mmetadata, \u001B[38;5;241m*\u001B[39m\u001B[38;5;241m*\u001B[39mkwargs)\n\u001B[1;32m    297\u001B[0m \u001B[38;5;28;01melse\u001B[39;00m:\n\u001B[0;32m--> 298\u001B[0m     format_dict, md_dict \u001B[38;5;241m=\u001B[39m \u001B[38;5;28;43mformat\u001B[39;49m\u001B[43m(\u001B[49m\u001B[43mobj\u001B[49m\u001B[43m,\u001B[49m\u001B[43m \u001B[49m\u001B[43minclude\u001B[49m\u001B[38;5;241;43m=\u001B[39;49m\u001B[43minclude\u001B[49m\u001B[43m,\u001B[49m\u001B[43m \u001B[49m\u001B[43mexclude\u001B[49m\u001B[38;5;241;43m=\u001B[39;49m\u001B[43mexclude\u001B[49m\u001B[43m)\u001B[49m\n\u001B[1;32m    299\u001B[0m     \u001B[38;5;28;01mif\u001B[39;00m \u001B[38;5;129;01mnot\u001B[39;00m format_dict:\n\u001B[1;32m    300\u001B[0m         \u001B[38;5;66;03m# nothing to display (e.g. _ipython_display_ took over)\u001B[39;00m\n\u001B[1;32m    301\u001B[0m         \u001B[38;5;28;01mcontinue\u001B[39;00m\n",
      "File \u001B[0;32m/usr/lib/python3.10/site-packages/IPython/core/formatters.py:179\u001B[0m, in \u001B[0;36mDisplayFormatter.format\u001B[0;34m(self, obj, include, exclude)\u001B[0m\n\u001B[1;32m    177\u001B[0m md \u001B[38;5;241m=\u001B[39m \u001B[38;5;28;01mNone\u001B[39;00m\n\u001B[1;32m    178\u001B[0m \u001B[38;5;28;01mtry\u001B[39;00m:\n\u001B[0;32m--> 179\u001B[0m     data \u001B[38;5;241m=\u001B[39m \u001B[43mformatter\u001B[49m\u001B[43m(\u001B[49m\u001B[43mobj\u001B[49m\u001B[43m)\u001B[49m\n\u001B[1;32m    180\u001B[0m \u001B[38;5;28;01mexcept\u001B[39;00m:\n\u001B[1;32m    181\u001B[0m     \u001B[38;5;66;03m# FIXME: log the exception\u001B[39;00m\n\u001B[1;32m    182\u001B[0m     \u001B[38;5;28;01mraise\u001B[39;00m\n",
      "File \u001B[0;32m<decorator-gen-2>:2\u001B[0m, in \u001B[0;36m__call__\u001B[0;34m(self, obj)\u001B[0m\n",
      "File \u001B[0;32m/usr/lib/python3.10/site-packages/IPython/core/formatters.py:223\u001B[0m, in \u001B[0;36mcatch_format_error\u001B[0;34m(method, self, *args, **kwargs)\u001B[0m\n\u001B[1;32m    221\u001B[0m \u001B[38;5;250m\u001B[39m\u001B[38;5;124;03m\"\"\"show traceback on failed format call\"\"\"\u001B[39;00m\n\u001B[1;32m    222\u001B[0m \u001B[38;5;28;01mtry\u001B[39;00m:\n\u001B[0;32m--> 223\u001B[0m     r \u001B[38;5;241m=\u001B[39m \u001B[43mmethod\u001B[49m\u001B[43m(\u001B[49m\u001B[38;5;28;43mself\u001B[39;49m\u001B[43m,\u001B[49m\u001B[43m \u001B[49m\u001B[38;5;241;43m*\u001B[39;49m\u001B[43margs\u001B[49m\u001B[43m,\u001B[49m\u001B[43m \u001B[49m\u001B[38;5;241;43m*\u001B[39;49m\u001B[38;5;241;43m*\u001B[39;49m\u001B[43mkwargs\u001B[49m\u001B[43m)\u001B[49m\n\u001B[1;32m    224\u001B[0m \u001B[38;5;28;01mexcept\u001B[39;00m \u001B[38;5;167;01mNotImplementedError\u001B[39;00m:\n\u001B[1;32m    225\u001B[0m     \u001B[38;5;66;03m# don't warn on NotImplementedErrors\u001B[39;00m\n\u001B[1;32m    226\u001B[0m     \u001B[38;5;28;01mreturn\u001B[39;00m \u001B[38;5;28mself\u001B[39m\u001B[38;5;241m.\u001B[39m_check_return(\u001B[38;5;28;01mNone\u001B[39;00m, args[\u001B[38;5;241m0\u001B[39m])\n",
      "File \u001B[0;32m/usr/lib/python3.10/site-packages/IPython/core/formatters.py:340\u001B[0m, in \u001B[0;36mBaseFormatter.__call__\u001B[0;34m(self, obj)\u001B[0m\n\u001B[1;32m    338\u001B[0m     \u001B[38;5;28;01mpass\u001B[39;00m\n\u001B[1;32m    339\u001B[0m \u001B[38;5;28;01melse\u001B[39;00m:\n\u001B[0;32m--> 340\u001B[0m     \u001B[38;5;28;01mreturn\u001B[39;00m \u001B[43mprinter\u001B[49m\u001B[43m(\u001B[49m\u001B[43mobj\u001B[49m\u001B[43m)\u001B[49m\n\u001B[1;32m    341\u001B[0m \u001B[38;5;66;03m# Finally look for special method names\u001B[39;00m\n\u001B[1;32m    342\u001B[0m method \u001B[38;5;241m=\u001B[39m get_real_method(obj, \u001B[38;5;28mself\u001B[39m\u001B[38;5;241m.\u001B[39mprint_method)\n",
      "File \u001B[0;32m/usr/lib/python3.10/site-packages/IPython/core/pylabtools.py:152\u001B[0m, in \u001B[0;36mprint_figure\u001B[0;34m(fig, fmt, bbox_inches, base64, **kwargs)\u001B[0m\n\u001B[1;32m    149\u001B[0m     \u001B[38;5;28;01mfrom\u001B[39;00m \u001B[38;5;21;01mmatplotlib\u001B[39;00m\u001B[38;5;21;01m.\u001B[39;00m\u001B[38;5;21;01mbackend_bases\u001B[39;00m \u001B[38;5;28;01mimport\u001B[39;00m FigureCanvasBase\n\u001B[1;32m    150\u001B[0m     FigureCanvasBase(fig)\n\u001B[0;32m--> 152\u001B[0m \u001B[43mfig\u001B[49m\u001B[38;5;241;43m.\u001B[39;49m\u001B[43mcanvas\u001B[49m\u001B[38;5;241;43m.\u001B[39;49m\u001B[43mprint_figure\u001B[49m\u001B[43m(\u001B[49m\u001B[43mbytes_io\u001B[49m\u001B[43m,\u001B[49m\u001B[43m \u001B[49m\u001B[38;5;241;43m*\u001B[39;49m\u001B[38;5;241;43m*\u001B[39;49m\u001B[43mkw\u001B[49m\u001B[43m)\u001B[49m\n\u001B[1;32m    153\u001B[0m data \u001B[38;5;241m=\u001B[39m bytes_io\u001B[38;5;241m.\u001B[39mgetvalue()\n\u001B[1;32m    154\u001B[0m \u001B[38;5;28;01mif\u001B[39;00m fmt \u001B[38;5;241m==\u001B[39m \u001B[38;5;124m'\u001B[39m\u001B[38;5;124msvg\u001B[39m\u001B[38;5;124m'\u001B[39m:\n",
      "File \u001B[0;32m~/.local/lib/python3.10/site-packages/matplotlib/backend_bases.py:2295\u001B[0m, in \u001B[0;36mFigureCanvasBase.print_figure\u001B[0;34m(self, filename, dpi, facecolor, edgecolor, orientation, format, bbox_inches, pad_inches, bbox_extra_artists, backend, **kwargs)\u001B[0m\n\u001B[1;32m   2289\u001B[0m     renderer \u001B[38;5;241m=\u001B[39m _get_renderer(\n\u001B[1;32m   2290\u001B[0m         \u001B[38;5;28mself\u001B[39m\u001B[38;5;241m.\u001B[39mfigure,\n\u001B[1;32m   2291\u001B[0m         functools\u001B[38;5;241m.\u001B[39mpartial(\n\u001B[1;32m   2292\u001B[0m             print_method, orientation\u001B[38;5;241m=\u001B[39morientation)\n\u001B[1;32m   2293\u001B[0m     )\n\u001B[1;32m   2294\u001B[0m     \u001B[38;5;28;01mwith\u001B[39;00m \u001B[38;5;28mgetattr\u001B[39m(renderer, \u001B[38;5;124m\"\u001B[39m\u001B[38;5;124m_draw_disabled\u001B[39m\u001B[38;5;124m\"\u001B[39m, nullcontext)():\n\u001B[0;32m-> 2295\u001B[0m         \u001B[38;5;28;43mself\u001B[39;49m\u001B[38;5;241;43m.\u001B[39;49m\u001B[43mfigure\u001B[49m\u001B[38;5;241;43m.\u001B[39;49m\u001B[43mdraw\u001B[49m\u001B[43m(\u001B[49m\u001B[43mrenderer\u001B[49m\u001B[43m)\u001B[49m\n\u001B[1;32m   2297\u001B[0m \u001B[38;5;28;01mif\u001B[39;00m bbox_inches:\n\u001B[1;32m   2298\u001B[0m     \u001B[38;5;28;01mif\u001B[39;00m bbox_inches \u001B[38;5;241m==\u001B[39m \u001B[38;5;124m\"\u001B[39m\u001B[38;5;124mtight\u001B[39m\u001B[38;5;124m\"\u001B[39m:\n",
      "File \u001B[0;32m~/.local/lib/python3.10/site-packages/matplotlib/artist.py:73\u001B[0m, in \u001B[0;36m_finalize_rasterization.<locals>.draw_wrapper\u001B[0;34m(artist, renderer, *args, **kwargs)\u001B[0m\n\u001B[1;32m     71\u001B[0m \u001B[38;5;129m@wraps\u001B[39m(draw)\n\u001B[1;32m     72\u001B[0m \u001B[38;5;28;01mdef\u001B[39;00m \u001B[38;5;21mdraw_wrapper\u001B[39m(artist, renderer, \u001B[38;5;241m*\u001B[39margs, \u001B[38;5;241m*\u001B[39m\u001B[38;5;241m*\u001B[39mkwargs):\n\u001B[0;32m---> 73\u001B[0m     result \u001B[38;5;241m=\u001B[39m \u001B[43mdraw\u001B[49m\u001B[43m(\u001B[49m\u001B[43martist\u001B[49m\u001B[43m,\u001B[49m\u001B[43m \u001B[49m\u001B[43mrenderer\u001B[49m\u001B[43m,\u001B[49m\u001B[43m \u001B[49m\u001B[38;5;241;43m*\u001B[39;49m\u001B[43margs\u001B[49m\u001B[43m,\u001B[49m\u001B[43m \u001B[49m\u001B[38;5;241;43m*\u001B[39;49m\u001B[38;5;241;43m*\u001B[39;49m\u001B[43mkwargs\u001B[49m\u001B[43m)\u001B[49m\n\u001B[1;32m     74\u001B[0m     \u001B[38;5;28;01mif\u001B[39;00m renderer\u001B[38;5;241m.\u001B[39m_rasterizing:\n\u001B[1;32m     75\u001B[0m         renderer\u001B[38;5;241m.\u001B[39mstop_rasterizing()\n",
      "File \u001B[0;32m~/.local/lib/python3.10/site-packages/matplotlib/artist.py:50\u001B[0m, in \u001B[0;36mallow_rasterization.<locals>.draw_wrapper\u001B[0;34m(artist, renderer)\u001B[0m\n\u001B[1;32m     47\u001B[0m     \u001B[38;5;28;01mif\u001B[39;00m artist\u001B[38;5;241m.\u001B[39mget_agg_filter() \u001B[38;5;129;01mis\u001B[39;00m \u001B[38;5;129;01mnot\u001B[39;00m \u001B[38;5;28;01mNone\u001B[39;00m:\n\u001B[1;32m     48\u001B[0m         renderer\u001B[38;5;241m.\u001B[39mstart_filter()\n\u001B[0;32m---> 50\u001B[0m     \u001B[38;5;28;01mreturn\u001B[39;00m \u001B[43mdraw\u001B[49m\u001B[43m(\u001B[49m\u001B[43martist\u001B[49m\u001B[43m,\u001B[49m\u001B[43m \u001B[49m\u001B[43mrenderer\u001B[49m\u001B[43m)\u001B[49m\n\u001B[1;32m     51\u001B[0m \u001B[38;5;28;01mfinally\u001B[39;00m:\n\u001B[1;32m     52\u001B[0m     \u001B[38;5;28;01mif\u001B[39;00m artist\u001B[38;5;241m.\u001B[39mget_agg_filter() \u001B[38;5;129;01mis\u001B[39;00m \u001B[38;5;129;01mnot\u001B[39;00m \u001B[38;5;28;01mNone\u001B[39;00m:\n",
      "File \u001B[0;32m~/.local/lib/python3.10/site-packages/matplotlib/figure.py:2810\u001B[0m, in \u001B[0;36mFigure.draw\u001B[0;34m(self, renderer)\u001B[0m\n\u001B[1;32m   2807\u001B[0m         \u001B[38;5;66;03m# ValueError can occur when resizing a window.\u001B[39;00m\n\u001B[1;32m   2809\u001B[0m \u001B[38;5;28mself\u001B[39m\u001B[38;5;241m.\u001B[39mpatch\u001B[38;5;241m.\u001B[39mdraw(renderer)\n\u001B[0;32m-> 2810\u001B[0m \u001B[43mmimage\u001B[49m\u001B[38;5;241;43m.\u001B[39;49m\u001B[43m_draw_list_compositing_images\u001B[49m\u001B[43m(\u001B[49m\n\u001B[1;32m   2811\u001B[0m \u001B[43m    \u001B[49m\u001B[43mrenderer\u001B[49m\u001B[43m,\u001B[49m\u001B[43m \u001B[49m\u001B[38;5;28;43mself\u001B[39;49m\u001B[43m,\u001B[49m\u001B[43m \u001B[49m\u001B[43martists\u001B[49m\u001B[43m,\u001B[49m\u001B[43m \u001B[49m\u001B[38;5;28;43mself\u001B[39;49m\u001B[38;5;241;43m.\u001B[39;49m\u001B[43msuppressComposite\u001B[49m\u001B[43m)\u001B[49m\n\u001B[1;32m   2813\u001B[0m \u001B[38;5;28;01mfor\u001B[39;00m sfig \u001B[38;5;129;01min\u001B[39;00m \u001B[38;5;28mself\u001B[39m\u001B[38;5;241m.\u001B[39msubfigs:\n\u001B[1;32m   2814\u001B[0m     sfig\u001B[38;5;241m.\u001B[39mdraw(renderer)\n",
      "File \u001B[0;32m~/.local/lib/python3.10/site-packages/matplotlib/image.py:132\u001B[0m, in \u001B[0;36m_draw_list_compositing_images\u001B[0;34m(renderer, parent, artists, suppress_composite)\u001B[0m\n\u001B[1;32m    130\u001B[0m \u001B[38;5;28;01mif\u001B[39;00m not_composite \u001B[38;5;129;01mor\u001B[39;00m \u001B[38;5;129;01mnot\u001B[39;00m has_images:\n\u001B[1;32m    131\u001B[0m     \u001B[38;5;28;01mfor\u001B[39;00m a \u001B[38;5;129;01min\u001B[39;00m artists:\n\u001B[0;32m--> 132\u001B[0m         \u001B[43ma\u001B[49m\u001B[38;5;241;43m.\u001B[39;49m\u001B[43mdraw\u001B[49m\u001B[43m(\u001B[49m\u001B[43mrenderer\u001B[49m\u001B[43m)\u001B[49m\n\u001B[1;32m    133\u001B[0m \u001B[38;5;28;01melse\u001B[39;00m:\n\u001B[1;32m    134\u001B[0m     \u001B[38;5;66;03m# Composite any adjacent images together\u001B[39;00m\n\u001B[1;32m    135\u001B[0m     image_group \u001B[38;5;241m=\u001B[39m []\n",
      "File \u001B[0;32m~/.local/lib/python3.10/site-packages/matplotlib/artist.py:50\u001B[0m, in \u001B[0;36mallow_rasterization.<locals>.draw_wrapper\u001B[0;34m(artist, renderer)\u001B[0m\n\u001B[1;32m     47\u001B[0m     \u001B[38;5;28;01mif\u001B[39;00m artist\u001B[38;5;241m.\u001B[39mget_agg_filter() \u001B[38;5;129;01mis\u001B[39;00m \u001B[38;5;129;01mnot\u001B[39;00m \u001B[38;5;28;01mNone\u001B[39;00m:\n\u001B[1;32m     48\u001B[0m         renderer\u001B[38;5;241m.\u001B[39mstart_filter()\n\u001B[0;32m---> 50\u001B[0m     \u001B[38;5;28;01mreturn\u001B[39;00m \u001B[43mdraw\u001B[49m\u001B[43m(\u001B[49m\u001B[43martist\u001B[49m\u001B[43m,\u001B[49m\u001B[43m \u001B[49m\u001B[43mrenderer\u001B[49m\u001B[43m)\u001B[49m\n\u001B[1;32m     51\u001B[0m \u001B[38;5;28;01mfinally\u001B[39;00m:\n\u001B[1;32m     52\u001B[0m     \u001B[38;5;28;01mif\u001B[39;00m artist\u001B[38;5;241m.\u001B[39mget_agg_filter() \u001B[38;5;129;01mis\u001B[39;00m \u001B[38;5;129;01mnot\u001B[39;00m \u001B[38;5;28;01mNone\u001B[39;00m:\n",
      "File \u001B[0;32m~/.local/lib/python3.10/site-packages/matplotlib/axes/_base.py:3082\u001B[0m, in \u001B[0;36m_AxesBase.draw\u001B[0;34m(self, renderer)\u001B[0m\n\u001B[1;32m   3079\u001B[0m         a\u001B[38;5;241m.\u001B[39mdraw(renderer)\n\u001B[1;32m   3080\u001B[0m     renderer\u001B[38;5;241m.\u001B[39mstop_rasterizing()\n\u001B[0;32m-> 3082\u001B[0m \u001B[43mmimage\u001B[49m\u001B[38;5;241;43m.\u001B[39;49m\u001B[43m_draw_list_compositing_images\u001B[49m\u001B[43m(\u001B[49m\n\u001B[1;32m   3083\u001B[0m \u001B[43m    \u001B[49m\u001B[43mrenderer\u001B[49m\u001B[43m,\u001B[49m\u001B[43m \u001B[49m\u001B[38;5;28;43mself\u001B[39;49m\u001B[43m,\u001B[49m\u001B[43m \u001B[49m\u001B[43martists\u001B[49m\u001B[43m,\u001B[49m\u001B[43m \u001B[49m\u001B[38;5;28;43mself\u001B[39;49m\u001B[38;5;241;43m.\u001B[39;49m\u001B[43mfigure\u001B[49m\u001B[38;5;241;43m.\u001B[39;49m\u001B[43msuppressComposite\u001B[49m\u001B[43m)\u001B[49m\n\u001B[1;32m   3085\u001B[0m renderer\u001B[38;5;241m.\u001B[39mclose_group(\u001B[38;5;124m'\u001B[39m\u001B[38;5;124maxes\u001B[39m\u001B[38;5;124m'\u001B[39m)\n\u001B[1;32m   3086\u001B[0m \u001B[38;5;28mself\u001B[39m\u001B[38;5;241m.\u001B[39mstale \u001B[38;5;241m=\u001B[39m \u001B[38;5;28;01mFalse\u001B[39;00m\n",
      "File \u001B[0;32m~/.local/lib/python3.10/site-packages/matplotlib/image.py:132\u001B[0m, in \u001B[0;36m_draw_list_compositing_images\u001B[0;34m(renderer, parent, artists, suppress_composite)\u001B[0m\n\u001B[1;32m    130\u001B[0m \u001B[38;5;28;01mif\u001B[39;00m not_composite \u001B[38;5;129;01mor\u001B[39;00m \u001B[38;5;129;01mnot\u001B[39;00m has_images:\n\u001B[1;32m    131\u001B[0m     \u001B[38;5;28;01mfor\u001B[39;00m a \u001B[38;5;129;01min\u001B[39;00m artists:\n\u001B[0;32m--> 132\u001B[0m         \u001B[43ma\u001B[49m\u001B[38;5;241;43m.\u001B[39;49m\u001B[43mdraw\u001B[49m\u001B[43m(\u001B[49m\u001B[43mrenderer\u001B[49m\u001B[43m)\u001B[49m\n\u001B[1;32m    133\u001B[0m \u001B[38;5;28;01melse\u001B[39;00m:\n\u001B[1;32m    134\u001B[0m     \u001B[38;5;66;03m# Composite any adjacent images together\u001B[39;00m\n\u001B[1;32m    135\u001B[0m     image_group \u001B[38;5;241m=\u001B[39m []\n",
      "File \u001B[0;32m~/.local/lib/python3.10/site-packages/matplotlib/artist.py:50\u001B[0m, in \u001B[0;36mallow_rasterization.<locals>.draw_wrapper\u001B[0;34m(artist, renderer)\u001B[0m\n\u001B[1;32m     47\u001B[0m     \u001B[38;5;28;01mif\u001B[39;00m artist\u001B[38;5;241m.\u001B[39mget_agg_filter() \u001B[38;5;129;01mis\u001B[39;00m \u001B[38;5;129;01mnot\u001B[39;00m \u001B[38;5;28;01mNone\u001B[39;00m:\n\u001B[1;32m     48\u001B[0m         renderer\u001B[38;5;241m.\u001B[39mstart_filter()\n\u001B[0;32m---> 50\u001B[0m     \u001B[38;5;28;01mreturn\u001B[39;00m \u001B[43mdraw\u001B[49m\u001B[43m(\u001B[49m\u001B[43martist\u001B[49m\u001B[43m,\u001B[49m\u001B[43m \u001B[49m\u001B[43mrenderer\u001B[49m\u001B[43m)\u001B[49m\n\u001B[1;32m     51\u001B[0m \u001B[38;5;28;01mfinally\u001B[39;00m:\n\u001B[1;32m     52\u001B[0m     \u001B[38;5;28;01mif\u001B[39;00m artist\u001B[38;5;241m.\u001B[39mget_agg_filter() \u001B[38;5;129;01mis\u001B[39;00m \u001B[38;5;129;01mnot\u001B[39;00m \u001B[38;5;28;01mNone\u001B[39;00m:\n",
      "File \u001B[0;32m~/.local/lib/python3.10/site-packages/matplotlib/image.py:646\u001B[0m, in \u001B[0;36m_ImageBase.draw\u001B[0;34m(self, renderer, *args, **kwargs)\u001B[0m\n\u001B[1;32m    644\u001B[0m         renderer\u001B[38;5;241m.\u001B[39mdraw_image(gc, l, b, im, trans)\n\u001B[1;32m    645\u001B[0m \u001B[38;5;28;01melse\u001B[39;00m:\n\u001B[0;32m--> 646\u001B[0m     im, l, b, trans \u001B[38;5;241m=\u001B[39m \u001B[38;5;28;43mself\u001B[39;49m\u001B[38;5;241;43m.\u001B[39;49m\u001B[43mmake_image\u001B[49m\u001B[43m(\u001B[49m\n\u001B[1;32m    647\u001B[0m \u001B[43m        \u001B[49m\u001B[43mrenderer\u001B[49m\u001B[43m,\u001B[49m\u001B[43m \u001B[49m\u001B[43mrenderer\u001B[49m\u001B[38;5;241;43m.\u001B[39;49m\u001B[43mget_image_magnification\u001B[49m\u001B[43m(\u001B[49m\u001B[43m)\u001B[49m\u001B[43m)\u001B[49m\n\u001B[1;32m    648\u001B[0m     \u001B[38;5;28;01mif\u001B[39;00m im \u001B[38;5;129;01mis\u001B[39;00m \u001B[38;5;129;01mnot\u001B[39;00m \u001B[38;5;28;01mNone\u001B[39;00m:\n\u001B[1;32m    649\u001B[0m         renderer\u001B[38;5;241m.\u001B[39mdraw_image(gc, l, b, im)\n",
      "File \u001B[0;32m~/.local/lib/python3.10/site-packages/matplotlib/image.py:956\u001B[0m, in \u001B[0;36mAxesImage.make_image\u001B[0;34m(self, renderer, magnification, unsampled)\u001B[0m\n\u001B[1;32m    953\u001B[0m transformed_bbox \u001B[38;5;241m=\u001B[39m TransformedBbox(bbox, trans)\n\u001B[1;32m    954\u001B[0m clip \u001B[38;5;241m=\u001B[39m ((\u001B[38;5;28mself\u001B[39m\u001B[38;5;241m.\u001B[39mget_clip_box() \u001B[38;5;129;01mor\u001B[39;00m \u001B[38;5;28mself\u001B[39m\u001B[38;5;241m.\u001B[39maxes\u001B[38;5;241m.\u001B[39mbbox) \u001B[38;5;28;01mif\u001B[39;00m \u001B[38;5;28mself\u001B[39m\u001B[38;5;241m.\u001B[39mget_clip_on()\n\u001B[1;32m    955\u001B[0m         \u001B[38;5;28;01melse\u001B[39;00m \u001B[38;5;28mself\u001B[39m\u001B[38;5;241m.\u001B[39mfigure\u001B[38;5;241m.\u001B[39mbbox)\n\u001B[0;32m--> 956\u001B[0m \u001B[38;5;28;01mreturn\u001B[39;00m \u001B[38;5;28;43mself\u001B[39;49m\u001B[38;5;241;43m.\u001B[39;49m\u001B[43m_make_image\u001B[49m\u001B[43m(\u001B[49m\u001B[38;5;28;43mself\u001B[39;49m\u001B[38;5;241;43m.\u001B[39;49m\u001B[43m_A\u001B[49m\u001B[43m,\u001B[49m\u001B[43m \u001B[49m\u001B[43mbbox\u001B[49m\u001B[43m,\u001B[49m\u001B[43m \u001B[49m\u001B[43mtransformed_bbox\u001B[49m\u001B[43m,\u001B[49m\u001B[43m \u001B[49m\u001B[43mclip\u001B[49m\u001B[43m,\u001B[49m\n\u001B[1;32m    957\u001B[0m \u001B[43m                        \u001B[49m\u001B[43mmagnification\u001B[49m\u001B[43m,\u001B[49m\u001B[43m \u001B[49m\u001B[43munsampled\u001B[49m\u001B[38;5;241;43m=\u001B[39;49m\u001B[43munsampled\u001B[49m\u001B[43m)\u001B[49m\n",
      "File \u001B[0;32m~/.local/lib/python3.10/site-packages/matplotlib/image.py:553\u001B[0m, in \u001B[0;36m_ImageBase._make_image\u001B[0;34m(self, A, in_bbox, out_bbox, clip_bbox, magnification, unsampled, round_to_pixel_border)\u001B[0m\n\u001B[1;32m    551\u001B[0m     A \u001B[38;5;241m=\u001B[39m \u001B[38;5;28mself\u001B[39m\u001B[38;5;241m.\u001B[39mto_rgba(A)\n\u001B[1;32m    552\u001B[0m \u001B[38;5;28;01mif\u001B[39;00m A\u001B[38;5;241m.\u001B[39mshape[\u001B[38;5;241m2\u001B[39m] \u001B[38;5;241m==\u001B[39m \u001B[38;5;241m3\u001B[39m:\n\u001B[0;32m--> 553\u001B[0m     A \u001B[38;5;241m=\u001B[39m \u001B[43m_rgb_to_rgba\u001B[49m\u001B[43m(\u001B[49m\u001B[43mA\u001B[49m\u001B[43m)\u001B[49m\n\u001B[1;32m    554\u001B[0m alpha \u001B[38;5;241m=\u001B[39m \u001B[38;5;28mself\u001B[39m\u001B[38;5;241m.\u001B[39m_get_scalar_alpha()\n\u001B[1;32m    555\u001B[0m output_alpha \u001B[38;5;241m=\u001B[39m _resample(  \u001B[38;5;66;03m# resample alpha channel\u001B[39;00m\n\u001B[1;32m    556\u001B[0m     \u001B[38;5;28mself\u001B[39m, A[\u001B[38;5;241m.\u001B[39m\u001B[38;5;241m.\u001B[39m\u001B[38;5;241m.\u001B[39m, \u001B[38;5;241m3\u001B[39m], out_shape, t, alpha\u001B[38;5;241m=\u001B[39malpha)\n",
      "\u001B[0;31mKeyboardInterrupt\u001B[0m: "
     ]
    },
    {
     "data": {
      "text/plain": "<Figure size 640x480 with 1 Axes>",
      "image/png": "[encoded data removed]"
     },
     "metadata": {},
     "output_type": "display_data"
    }
   ],
   "source": [],
   "metadata": {
    "collapsed": false,
    "pycharm": {
     "name": "#%%\n"
    }
   }
  },
  {
   "cell_type": "code",
   "execution_count": null,
   "outputs": [],
   "source": [],
   "metadata": {
    "collapsed": false,
    "pycharm": {
     "name": "#%%\n"
    }
   }
  }
 ],
 "metadata": {
  "colab": {
   "provenance": []
  },
  "kernelspec": {
   "display_name": "Python 3 (ipykernel)",
   "language": "python",
   "name": "python3"
  },
  "language_info": {
   "codemirror_mode": {
    "name": "ipython",
    "version": 3
   },
   "file_extension": ".py",
   "mimetype": "text/x-python",
   "name": "python",
   "nbconvert_exporter": "python",
   "pygments_lexer": "ipython3",
   "version": "3.9.13"
  }
 },
 "nbformat": 4,
 "nbformat_minor": 1
}