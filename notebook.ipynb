{
 "cells": [
  {
   "cell_type": "markdown",
   "source": [
    "# Hand-On in Deep Reinforcement Learning in Python\n",
    "In this notebook we will implement a Deep Q-Network (DQN) agent to solve the Lunar Lander environment from OpenAI Gym.\n",
    "In doing this, we will learn the basics of the Gym library, how to implement a DQN agent, and how to train it.\n",
    "This notebook is based on the following resources:\n",
    "- [Deep Reinforcement Learning Hands-On](https://www.amazon.com/Deep-Reinforcement-Learning-Hands-Q-networks/dp/1788834240)\n",
    "- [Torch Implementation](https://pytorch.org/tutorials/intermediate/reinforcement_q_learning.html)\n",
    "Finally, we will compare our implementation with the Stable Baselines 3 implementation of the PPO algorithm."
   ],
   "metadata": {
    "collapsed": false,
    "pycharm": {
     "name": "#%% md\n"
    }
   }
  },
  {
   "cell_type": "markdown",
   "source": [
    "## Requirements and Imports\n",
    "First we need to install the requirements for this notebook.\n",
    "We will use the following libraries:\n",
    "- Gymnasium: Gymnasium is a collection of environments for OpenAI Gym.\n",
    "- PyTorch: PyTorch is a deep learning framework, it is the most popular framework for deep learning research.\n",
    "- Stable Baselines 3: Stable Baselines 3 is a library that implements several reinforcement learning algorithms.\n",
    "- Virtualdisplay: Virtualdisplay is a library that allows us to render the environment in a headless server (i.e., in jupyter)\n",
    "- Matplotlib: Matplotlib is a plotting library for python."
   ],
   "metadata": {
    "collapsed": false,
    "pycharm": {
     "name": "#%% md\n"
    }
   }
  },
  {
   "cell_type": "markdown",
   "source": [
    "Deep Reinforcement Learning Libraries"
   ],
   "metadata": {
    "collapsed": false,
    "pycharm": {
     "name": "#%% md\n"
    }
   }
  },
  {
   "cell_type": "code",
   "execution_count": 15,
   "outputs": [],
   "source": [
    "!pip install swig==4.1.1 > /dev/null 2>&1\n",
    "!pip install box2d-py==2.3.5 > /dev/null 2>&1\n",
    "!pip install numpy=y=1.21.5 > /dev/null 2>&1\n",
    "!pip install 'stable-baselines3>=2.0.0a9' > /dev/null 2>&1\n",
    "!pip install 'gymnasium[box2d]==0.28.1' > /dev/null 2>&1\n",
    "!pip3 install torch torchvision torchaudio > /dev/null 2>&1"
   ],
   "metadata": {
    "collapsed": false,
    "pycharm": {
     "name": "#%%\n"
    }
   }
  },
  {
   "cell_type": "markdown",
   "source": [
    "Visualization Libraries, NB! This works only on Linux! If you have problem in running this, you can upload this notebook to Google Colab and run it there."
   ],
   "metadata": {
    "collapsed": false,
    "pycharm": {
     "name": "#%% md\n"
    }
   }
  },
  {
   "cell_type": "code",
   "execution_count": 6,
   "outputs": [],
   "source": [
    "!apt-get install -y xvfb x11-utils > /dev/null 2>&1\n",
    "!pip install matplotlib > /dev/null 2>&1\n",
    "!pip install xvfbwrapper > /dev/null 2>&1\n",
    "!pip install 'pyvirtualdisplay==0.2.*'  'PyOpenGL==3.1.*' 'PyOpenGL-accelerate==3.1.*' > /dev/null 2>&1"
   ],
   "metadata": {
    "collapsed": false,
    "pycharm": {
     "name": "#%%\n"
    }
   }
  },
  {
   "cell_type": "markdown",
   "source": [
    "For the sake of simplicity, we import all the libraries we will use in this notebook here."
   ],
   "metadata": {
    "collapsed": false,
    "pycharm": {
     "name": "#%% md\n"
    }
   }
  },
  {
   "cell_type": "code",
   "execution_count": 34,
   "outputs": [],
   "source": [
    "## For environments\n",
    "import gymnasium as gym\n",
    "### From rendering\n",
    "from IPython import display\n",
    "import pyvirtualdisplay\n",
    "### For the agent and training\n",
    "import torch\n",
    "import torch.nn as nn\n",
    "import torch.nn.functional as F\n",
    "import torch.optim as optim\n",
    "import copy\n",
    "## For replay buffer\n",
    "from random import random\n",
    "from random import sample\n",
    "from collections import deque\n",
    "# Plotting\n",
    "import matplotlib.pyplot as plt\n",
    "# Reproducibility\n",
    "from random import seed\n",
    "from stable_baselines3 import PPO\n",
    "from stable_baselines3.common.env_util import make_vec_env"
   ],
   "metadata": {
    "collapsed": false,
    "pycharm": {
     "name": "#%%\n"
    }
   }
  },
  {
   "cell_type": "markdown",
   "source": [
    "## Gymnasium\n",
    "Gymnasium is a collection of environments for OpenAI Gym.\n",
    "The goal of Gymnasium is to provide a collection of environments that are easy to use and easy to install.\n",
    "Moreover, Gymnasium provides a collection of wrappers that can be used to modify the behavior of the environments.\n",
    "Finally, it is possible to create new environments by combining existing ones or by creating new ones from scratch.\n",
    "\n",
    "Firstly, we need to create a virtual display to render the environment in the notebook"
   ],
   "metadata": {
    "collapsed": false,
    "pycharm": {
     "name": "#%% md\n"
    }
   }
  },
  {
   "cell_type": "code",
   "execution_count": 16,
   "outputs": [
    {
     "data": {
      "text/plain": "<Display cmd_param=['Xvfb', '-br', '-nolisten', 'tcp', '-screen', '0', '1400x900x24', ':1005'] cmd=['Xvfb', '-br', '-nolisten', 'tcp', '-screen', '0', '1400x900x24', ':1005'] oserror=None return_code=None stdout=\"None\" stderr=\"None\" timeout_happened=False>"
     },
     "execution_count": 16,
     "metadata": {},
     "output_type": "execute_result"
    }
   ],
   "source": [
    "pyvirtualdisplay.Display(visible=False, size=(1400, 900)).start()"
   ],
   "metadata": {
    "collapsed": false,
    "pycharm": {
     "name": "#%%\n"
    }
   }
  },
  {
   "cell_type": "markdown",
   "source": [
    "## Gym Basic\n",
    "Here we will use the Lunar Lander environment from OpenAI Gym.\n",
    "The typical usage of Gym is the following:\n",
    "1. Create the environment: `env = gym.make(\"LunarLander-v2\")`\n",
    "2. Reset the environment: `env.reset()`\n",
    "3. Iterate unless the environment is done:\n",
    "    1. Pick an action: `action = ???`\n",
    "    2. Progress the environment: `env.step(action)`\n"
   ],
   "metadata": {
    "collapsed": false,
    "pycharm": {
     "name": "#%% md\n"
    }
   }
  },
  {
   "cell_type": "code",
   "execution_count": 4,
   "outputs": [
    {
     "data": {
      "text/plain": "<Figure size 640x480 with 1 Axes>",
      "image/png": "[encoded data removed]"
     },
     "metadata": {},
     "output_type": "display_data"
    }
   ],
   "source": [
    "## Create environment\n",
    "env = gym.make('LunarLander-v2', render_mode=\"rgb_array\")\n",
    "env.reset() ## When the env is created it should be reset to initialize the state\n",
    "img = plt.imshow(env.render()) ## Used for rendering purposes\n",
    "print(env.action_space.sample())\n",
    "for i in range(100): ## Run for 1000 steps\n",
    "    env.step(env.action_space.sample()) ## Pick a random action and progress the environment\n",
    "    img.set_data(env.render())\n",
    "    plt.axis('off')\n",
    "    display.display(plt.gcf())\n",
    "    display.clear_output(wait=True)"
   ],
   "metadata": {
    "collapsed": false,
    "pycharm": {
     "name": "#%%\n"
    }
   }
  },
  {
   "cell_type": "markdown",
   "source": [
    "## Lunar Lander\n",
    "The Lunar Lander environment is a 2D environment where the goal is to land the lander on the landing pad.\n",
    "The action space is discrete and has 4 possible actions:\n",
    "- Do nothing\n",
    "- Fire left engine\n",
    "- Fire main engine\n",
    "- Fire right engine\n",
    "\n",
    "The observation space is continuous and has 8 dimensions:\n",
    "- x position\n",
    "- y position\n",
    "- x velocity\n",
    "- y velocity\n",
    "- angle\n",
    "- angular velocity\n",
    "- left leg contact (bool)\n",
    "- right leg contact (bool)\n",
    "\n",
    "The reward is given as follows:\n",
    "- +100 for landing on the landing pad\n",
    "- -100 for landing outside the landing pad\n",
    "- -0.3 for using the main engine\n",
    "- -0.03 for using the side engines\n",
    "- +10 for landing on the landing pad with the legs touching the ground\n",
    "\n",
    "The episode ends when the lander crashes or comes to rest.\n",
    "The environment is considered solved when the agent gets an average reward of 200 over 100 consecutive episodes."
   ],
   "metadata": {
    "collapsed": false,
    "pycharm": {
     "name": "#%% md\n"
    }
   }
  },
  {
   "cell_type": "markdown",
   "source": [
    "## Deep Q Learning\n",
    "Deep Q Learning is a reinforcement learning algorithm that uses a neural network to approximate the Q function.\n",
    "Here we will implement the Deep Q Learning algorithm using PyTorch.\n",
    "Firstly, we need to select the device we will use for training."
   ],
   "metadata": {
    "collapsed": false,
    "pycharm": {
     "name": "#%% md\n"
    }
   }
  },
  {
   "cell_type": "code",
   "execution_count": 17,
   "outputs": [
    {
     "data": {
      "text/plain": "device(type='cuda')"
     },
     "execution_count": 17,
     "metadata": {},
     "output_type": "execute_result"
    }
   ],
   "source": [
    "# if GPU is to be used\n",
    "device = torch.device(\"cuda\" if torch.cuda.is_available() else \"cpu\")\n",
    "device"
   ],
   "metadata": {
    "collapsed": false,
    "pycharm": {
     "name": "#%%\n"
    }
   }
  },
  {
   "cell_type": "markdown",
   "source": [
    "For reproducibility, we set the seed of the random number generators.\n",
    "This is really import to make the results comparable."
   ],
   "metadata": {
    "collapsed": false,
    "pycharm": {
     "name": "#%% md\n"
    }
   }
  },
  {
   "cell_type": "code",
   "execution_count": 18,
   "outputs": [],
   "source": [
    "torch.manual_seed(42)\n",
    "seed(42)"
   ],
   "metadata": {
    "collapsed": false,
    "pycharm": {
     "name": "#%%\n"
    }
   }
  },
  {
   "cell_type": "markdown",
   "source": [
    "### Replay Buffer\n",
    "The replay buffer is used to store the experiences of the agent.\n",
    "An **experience** is a tuple of the form (state, action, reward, next_state, done).\n",
    "From this set of experiences, the agent will sample a batch of experiences to train the neural network."
   ],
   "metadata": {
    "collapsed": false,
    "pycharm": {
     "name": "#%% md\n"
    }
   }
  },
  {
   "cell_type": "code",
   "execution_count": 25,
   "outputs": [],
   "source": [
    "## Factory function to create an experience\n",
    "def create_experience(state, action: int, reward: float, next_state, done: bool):\n",
    "    return {\n",
    "        \"state\" : state, \"action\" : action, \"reward\" : reward, \"next_state\" : next_state, \"done\" : done\n",
    "    }\n",
    "\n",
    "## Replay buffer, it is a deque with a maximum length\n",
    "class ReplayMemory(object):\n",
    "\n",
    "    def __init__(self, capacity):\n",
    "        self.memory = deque([], maxlen=capacity)\n",
    "\n",
    "    def push(self, *args):\n",
    "        self.memory.append(create_experience(*args))\n",
    "\n",
    "    def sample(self, batch_size):\n",
    "        return sample(self.memory, batch_size)\n",
    "\n",
    "    def __len__(self):\n",
    "        return len(self.memory)\n"
   ],
   "metadata": {
    "collapsed": false,
    "pycharm": {
     "name": "#%%\n"
    }
   }
  },
  {
   "cell_type": "markdown",
   "source": [
    "### Network\n",
    "The network is a simple feed-forward neural network with 2 hidden layers.\n",
    "The input of the network is the state and the output is the Q value for each action.\n",
    "It is also possible to use a convolutional neural network as input.\n",
    "In torch, the network is a subclass of `nn.Module`.\n",
    "Another solution is to use the `nn.Sequential` class (similar to Keras)."
   ],
   "metadata": {
    "collapsed": false,
    "pycharm": {
     "name": "#%% md\n"
    }
   }
  },
  {
   "cell_type": "code",
   "execution_count": 26,
   "outputs": [],
   "source": [
    "class DQN(nn.Module):\n",
    "    def __init__(self, n_observations: int, n_actions: int, hidden_size: int):\n",
    "        super(DQN, self).__init__()\n",
    "        self.layer1 = nn.Linear(n_observations, hidden_size)\n",
    "        self.layer2 = nn.Linear(hidden_size, hidden_size)\n",
    "        self.layer3 = nn.Linear(hidden_size, n_actions)\n",
    "\n",
    "    def forward(self, x):\n",
    "        x = F.relu(self.layer1(x))\n",
    "        x = F.relu(self.layer2(x))\n",
    "        return self.layer3(x)"
   ],
   "metadata": {
    "collapsed": false,
    "pycharm": {
     "name": "#%%\n"
    }
   }
  },
  {
   "cell_type": "markdown",
   "source": [
    "### Exponential Decay\n",
    "The epsilon value is used to control the exploration of the agent.\n",
    "At the beginning of the training, the agent should explore the environment.\n",
    "As the training progresses, the agent should explore less and less.\n",
    "The epsilon value is used to control this exploration.\n",
    "The epsilon value is decayed after each episode following an exponential decay --- a typical solution in RL.\n",
    "A standard initial value for epsilon is 1 and a standard final value is 0.01."
   ],
   "metadata": {
    "collapsed": false,
    "pycharm": {
     "name": "#%% md\n"
    }
   }
  },
  {
   "cell_type": "code",
   "execution_count": 27,
   "outputs": [],
   "source": [
    "# Exponential decay that decays from start to end. After each call to decay it should reduce the value by decay_rate\n",
    "class ExponentialDecay:\n",
    "    def __init__(self, start: float, end: float, decay_rate: float):\n",
    "        self.start = start\n",
    "        self.end = end\n",
    "        self.decay_rate = decay_rate\n",
    "        self.value = start\n",
    "        self.initial = start\n",
    "    def decay(self):\n",
    "        self.value = max(self.end, self.value * self.decay_rate)\n",
    "\n",
    "    def __call__(self):\n",
    "        return self.value\n",
    "\n",
    "    def reset(self):\n",
    "        self.value = self.initial"
   ],
   "metadata": {
    "collapsed": false,
    "pycharm": {
     "name": "#%%\n"
    }
   }
  },
  {
   "cell_type": "markdown",
   "source": [
    "### Learning Agent\n",
    "The learning agent is the agent that will learn the Q function.\n",
    "It uses the replay buffer and the neural network to learn the Q function.\n",
    "It also needs:\n",
    "- A batch size to sample from the replay buffer\n",
    "- A discount factor gamma\n",
    "- A learning rate for the neural network\n",
    "- An epsilon value for the exploration\n",
    "- The action space for randomly sampling actions\n",
    "\n",
    "Internally, the agent has two neural networks:\n",
    "- The policy network that is used to select actions\n",
    "- The target network that is used to compute the target Q values\n",
    "\n",
    "The target network is updated every `copy_target_every` steps.\n",
    "\n",
    "As optimization algorithm, we use AdamW, but you can use any optimizer you want.\n",
    "\n",
    "The agent can be in two modes:\n",
    "- Learning mode: the agent is learning and the policy network is updated\n",
    "- Evaluation mode: the agent is not learning and the policy network is not updated\n",
    "\n",
    "The agent has key three methods:\n",
    "- `record` to record an experience in the replay buffer and update the policy network (if it is in learning mode)\n",
    "- `act` to select an action given a state (using the policy network)\n",
    "- `act_eps_greedy` to select an action given a state (using the policy network) with epsilon greedy exploration (if it is in learning mode)"
   ],
   "metadata": {
    "collapsed": false,
    "pycharm": {
     "name": "#%% md\n"
    }
   }
  },
  {
   "cell_type": "code",
   "execution_count": 37,
   "outputs": [],
   "source": [
    "class DQNAgent:\n",
    "    def __init__(\n",
    "             self,\n",
    "             network: nn.Module, # The neural network, it should inherit from nn.Module\n",
    "             memory: ReplayMemory, # The replay buffer\n",
    "             batch_size: int,\n",
    "             gamma: float, # The discount factor\n",
    "             learning_rate: float, # The learning rate\n",
    "             epsilon: ExponentialDecay, # The epsilon value for exploration\n",
    "             action_space: gym.spaces.Space, # The action space used to sample actions\n",
    "             copy_target_every: int = 100\n",
    "         ):\n",
    "        self.policy_network = network\n",
    "        self.target_network = copy.deepcopy(network)\n",
    "        self.policy_network.train()\n",
    "        self.target_network.train()\n",
    "        self.memory = memory\n",
    "        self.batch_size = batch_size\n",
    "        self.gamma = gamma\n",
    "        self.learning_rate = learning_rate\n",
    "        self.optimizer = optim.AdamW(self.policy_network.parameters(), lr=learning_rate, amsgrad=True)\n",
    "        self.epsilon = epsilon\n",
    "        self.copy_target_every = copy_target_every\n",
    "        self.updates = 0\n",
    "        self.action_space = action_space\n",
    "        self.learning = True\n",
    "\n",
    "    def eval(self):\n",
    "        self.policy_network.eval()\n",
    "        self.target_network.eval()\n",
    "        self.learning = False\n",
    "\n",
    "    def train(self):\n",
    "        self.policy_network.train()\n",
    "        self.target_network.train()\n",
    "        self.learning = True\n",
    "\n",
    "    def act(self, state):\n",
    "        with torch.no_grad():\n",
    "            return self.policy_network(state).max(0)[1].item()\n",
    "\n",
    "    def act_epsilon_greedy(self, state):\n",
    "        if not self.learning or random() > self.epsilon():\n",
    "            return self.act(state)\n",
    "        else:\n",
    "            return self.action_space.sample()\n",
    "\n",
    "    def record(self, state, action: int, reward: float, next_state, done: bool):\n",
    "        self.memory.push(state, action, reward, next_state, done)\n",
    "        if len(self.memory) > self.batch_size and self.learning:\n",
    "            self.learn()\n",
    "            self.updates += 1\n",
    "            if self.updates % self.copy_target_every == 0:\n",
    "                self.target_network.load_state_dict(self.policy_network.state_dict())\n",
    "    def learn(self):\n",
    "        batch = self.memory.sample(self.batch_size)\n",
    "        ## Create tensors for the batch\n",
    "        states = torch.stack([experience[\"state\"] for experience in batch]).to(device)\n",
    "        actions = torch.tensor([experience[\"action\"] for experience in batch]).to(device)\n",
    "        rewards = torch.tensor([experience[\"reward\"] for experience in batch]).to(device)\n",
    "        next_states = torch.stack([experience[\"next_state\"] for experience in batch]).to(device)\n",
    "        dones = torch.tensor([experience[\"done\"] for experience in batch])\n",
    "        ## Compute the target\n",
    "        with torch.no_grad(): ## No backprop here, just for the target (i.e. ground truth)\n",
    "            next_state_values = self.target_network(next_states).max(1)[0]\n",
    "        target = rewards + (self.gamma * next_state_values)  # $y_i = r + \\gamma \\max_{a'} Q(s', a', \\theta^-)$\n",
    "        target[dones] = rewards[dones] # If done, then $y_i = r$\n",
    "        ## Compute the prediction\n",
    "        predicted = self.policy_network(states).gather(1, actions.unsqueeze(1)).squeeze(1) # $Q(s, a, \\theta)$\n",
    "        criterion = nn.SmoothL1Loss()\n",
    "        loss = criterion(predicted, target) # L = (y_i - Q(s, a, \\theta))^2\n",
    "        self.optimizer.zero_grad()\n",
    "        loss.backward()\n",
    "        self.optimizer.step()\n"
   ],
   "metadata": {
    "collapsed": false,
    "pycharm": {
     "name": "#%%\n"
    }
   }
  },
  {
   "cell_type": "code",
   "execution_count": 29,
   "outputs": [],
   "source": [
    "class RenderStrategy:\n",
    "    def render(self, data: list):\n",
    "        pass\n",
    "    def update(self):\n",
    "        pass\n",
    "class OffRenderer(RenderStrategy):\n",
    "    def render(self, data: list):\n",
    "        return\n",
    "\n",
    "class OnRenderer(RenderStrategy):\n",
    "    def __init__(self, render_every=1):\n",
    "        self.img = None\n",
    "        self.render_every = render_every\n",
    "        self.render_count = 0\n",
    "    def render(self, data: list):\n",
    "        if self.render_count % self.render_every == 0:\n",
    "            if self.img is None:\n",
    "                self.img = plt.imshow(data)\n",
    "            self.img.set_data(env.render())\n",
    "            plt.axis('off')\n",
    "            display.display(plt.gcf())\n",
    "            display.clear_output(wait=True)\n",
    "    def update(self):\n",
    "        self.render_count += 1\n",
    "        self.img = None"
   ],
   "metadata": {
    "collapsed": false,
    "pycharm": {
     "name": "#%%\n"
    }
   }
  },
  {
   "cell_type": "code",
   "execution_count": 31,
   "outputs": [],
   "source": [
    "## Episode\n",
    "\n",
    "def run_episode(env: gym.Env, agent: DQNAgent, render: RenderStrategy, learning: bool = True):\n",
    "    if learning: agent.train()\n",
    "    else: agent.eval()\n",
    "    state = env.reset()[0]\n",
    "    total_reward = 0\n",
    "    done = False\n",
    "    while not done:\n",
    "        render.render(env.render()) ## Used for rendering purposes\n",
    "        action = agent.act_epsilon_greedy(torch.tensor(state, dtype=torch.float32, device=device))\n",
    "        next_state, reward, terminated, truncated, info = env.step(action)\n",
    "        if learning:\n",
    "            agent.record(torch.tensor(state, dtype=torch.float32, device=device), action, reward, torch.tensor(next_state, dtype=torch.float32, device=device), done)\n",
    "        state = next_state\n",
    "        done = terminated or truncated\n",
    "        total_reward += reward\n",
    "    return total_reward"
   ],
   "metadata": {
    "collapsed": false,
    "pycharm": {
     "name": "#%%\n"
    }
   }
  },
  {
   "cell_type": "code",
   "execution_count": 32,
   "outputs": [],
   "source": [
    "def train(env: gym.Env, agent: DQNAgent, episodes: int, render: RenderStrategy):\n",
    "    rewards = []\n",
    "    for episode in range(episodes):\n",
    "        display.clear_output(wait=True)\n",
    "        reward = run_episode(env, agent, render)\n",
    "        agent.epsilon.decay()\n",
    "        rewards.append(reward)\n",
    "        print(f\"Episode: {episode}, Reward: {reward}, Epsilon {agent.epsilon()}\")\n",
    "        ## Plot the rewards\n",
    "        plt.clf()\n",
    "        plt.title(f'Training...  Episode: {episode}')\n",
    "        plt.xlabel('Episode')\n",
    "        plt.ylabel('Duration')\n",
    "        plt.plot(rewards)\n",
    "        display.display(plt.gcf())\n",
    "        render.update()\n",
    "        display.clear_output(wait=True)\n",
    "    return rewards"
   ],
   "metadata": {
    "collapsed": false,
    "pycharm": {
     "name": "#%%\n"
    }
   }
  },
  {
   "cell_type": "code",
   "execution_count": 38,
   "outputs": [
    {
     "ename": "KeyboardInterrupt",
     "evalue": "",
     "output_type": "error",
     "traceback": [
      "\u001B[0;31m---------------------------------------------------------------------------\u001B[0m",
      "\u001B[0;31mKeyboardInterrupt\u001B[0m                         Traceback (most recent call last)",
      "Cell \u001B[0;32mIn[38], line 14\u001B[0m\n\u001B[1;32m     11\u001B[0m epsilon \u001B[38;5;241m=\u001B[39m ExponentialDecay(\u001B[38;5;241m0.9\u001B[39m, \u001B[38;5;241m0.05\u001B[39m, \u001B[38;5;241m0.99\u001B[39m)\n\u001B[1;32m     12\u001B[0m agent \u001B[38;5;241m=\u001B[39m DQNAgent(network, memory, batch_size, gamma, learning_rate, epsilon, env\u001B[38;5;241m.\u001B[39maction_space, \u001B[38;5;241m1000\u001B[39m)\n\u001B[0;32m---> 14\u001B[0m \u001B[43mtrain\u001B[49m\u001B[43m(\u001B[49m\u001B[43menv\u001B[49m\u001B[43m,\u001B[49m\u001B[43m \u001B[49m\u001B[43magent\u001B[49m\u001B[43m,\u001B[49m\u001B[43m \u001B[49m\u001B[38;5;241;43m1000\u001B[39;49m\u001B[43m,\u001B[49m\u001B[43m \u001B[49m\u001B[43mrender\u001B[49m\u001B[38;5;241;43m=\u001B[39;49m\u001B[43mOnRenderer\u001B[49m\u001B[43m(\u001B[49m\u001B[38;5;241;43m100\u001B[39;49m\u001B[43m)\u001B[49m\u001B[43m)\u001B[49m\n\u001B[1;32m     15\u001B[0m \u001B[38;5;124m\"\u001B[39m\u001B[38;5;124mTrained...\u001B[39m\u001B[38;5;124m\"\u001B[39m\n",
      "Cell \u001B[0;32mIn[32], line 5\u001B[0m, in \u001B[0;36mtrain\u001B[0;34m(env, agent, episodes, render)\u001B[0m\n\u001B[1;32m      3\u001B[0m \u001B[38;5;28;01mfor\u001B[39;00m episode \u001B[38;5;129;01min\u001B[39;00m \u001B[38;5;28mrange\u001B[39m(episodes):\n\u001B[1;32m      4\u001B[0m     display\u001B[38;5;241m.\u001B[39mclear_output(wait\u001B[38;5;241m=\u001B[39m\u001B[38;5;28;01mTrue\u001B[39;00m)\n\u001B[0;32m----> 5\u001B[0m     reward \u001B[38;5;241m=\u001B[39m \u001B[43mrun_episode\u001B[49m\u001B[43m(\u001B[49m\u001B[43menv\u001B[49m\u001B[43m,\u001B[49m\u001B[43m \u001B[49m\u001B[43magent\u001B[49m\u001B[43m,\u001B[49m\u001B[43m \u001B[49m\u001B[43mrender\u001B[49m\u001B[43m)\u001B[49m\n\u001B[1;32m      6\u001B[0m     agent\u001B[38;5;241m.\u001B[39mepsilon\u001B[38;5;241m.\u001B[39mdecay()\n\u001B[1;32m      7\u001B[0m     rewards\u001B[38;5;241m.\u001B[39mappend(reward)\n",
      "Cell \u001B[0;32mIn[31], line 10\u001B[0m, in \u001B[0;36mrun_episode\u001B[0;34m(env, agent, render, learning)\u001B[0m\n\u001B[1;32m      8\u001B[0m done \u001B[38;5;241m=\u001B[39m \u001B[38;5;28;01mFalse\u001B[39;00m\n\u001B[1;32m      9\u001B[0m \u001B[38;5;28;01mwhile\u001B[39;00m \u001B[38;5;129;01mnot\u001B[39;00m done:\n\u001B[0;32m---> 10\u001B[0m     render\u001B[38;5;241m.\u001B[39mrender(\u001B[43menv\u001B[49m\u001B[38;5;241;43m.\u001B[39;49m\u001B[43mrender\u001B[49m\u001B[43m(\u001B[49m\u001B[43m)\u001B[49m) \u001B[38;5;66;03m## Used for rendering purposes\u001B[39;00m\n\u001B[1;32m     11\u001B[0m     action \u001B[38;5;241m=\u001B[39m agent\u001B[38;5;241m.\u001B[39mact_epsilon_greedy(torch\u001B[38;5;241m.\u001B[39mtensor(state, dtype\u001B[38;5;241m=\u001B[39mtorch\u001B[38;5;241m.\u001B[39mfloat32, device\u001B[38;5;241m=\u001B[39mdevice))\n\u001B[1;32m     12\u001B[0m     next_state, reward, terminated, truncated, info \u001B[38;5;241m=\u001B[39m env\u001B[38;5;241m.\u001B[39mstep(action)\n",
      "File \u001B[0;32m~/.local/lib/python3.10/site-packages/gymnasium/core.py:418\u001B[0m, in \u001B[0;36mWrapper.render\u001B[0;34m(self)\u001B[0m\n\u001B[1;32m    416\u001B[0m \u001B[38;5;28;01mdef\u001B[39;00m \u001B[38;5;21mrender\u001B[39m(\u001B[38;5;28mself\u001B[39m) \u001B[38;5;241m-\u001B[39m\u001B[38;5;241m>\u001B[39m RenderFrame \u001B[38;5;241m|\u001B[39m \u001B[38;5;28mlist\u001B[39m[RenderFrame] \u001B[38;5;241m|\u001B[39m \u001B[38;5;28;01mNone\u001B[39;00m:\n\u001B[1;32m    417\u001B[0m \u001B[38;5;250m    \u001B[39m\u001B[38;5;124;03m\"\"\"Uses the :meth:`render` of the :attr:`env` that can be overwritten to change the returned data.\"\"\"\u001B[39;00m\n\u001B[0;32m--> 418\u001B[0m     \u001B[38;5;28;01mreturn\u001B[39;00m \u001B[38;5;28;43mself\u001B[39;49m\u001B[38;5;241;43m.\u001B[39;49m\u001B[43menv\u001B[49m\u001B[38;5;241;43m.\u001B[39;49m\u001B[43mrender\u001B[49m\u001B[43m(\u001B[49m\u001B[43m)\u001B[49m\n",
      "File \u001B[0;32m~/.local/lib/python3.10/site-packages/gymnasium/wrappers/order_enforcing.py:70\u001B[0m, in \u001B[0;36mOrderEnforcing.render\u001B[0;34m(self, *args, **kwargs)\u001B[0m\n\u001B[1;32m     65\u001B[0m \u001B[38;5;28;01mif\u001B[39;00m \u001B[38;5;129;01mnot\u001B[39;00m \u001B[38;5;28mself\u001B[39m\u001B[38;5;241m.\u001B[39m_disable_render_order_enforcing \u001B[38;5;129;01mand\u001B[39;00m \u001B[38;5;129;01mnot\u001B[39;00m \u001B[38;5;28mself\u001B[39m\u001B[38;5;241m.\u001B[39m_has_reset:\n\u001B[1;32m     66\u001B[0m     \u001B[38;5;28;01mraise\u001B[39;00m ResetNeeded(\n\u001B[1;32m     67\u001B[0m         \u001B[38;5;124m\"\u001B[39m\u001B[38;5;124mCannot call `env.render()` before calling `env.reset()`, if this is a intended action, \u001B[39m\u001B[38;5;124m\"\u001B[39m\n\u001B[1;32m     68\u001B[0m         \u001B[38;5;124m\"\u001B[39m\u001B[38;5;124mset `disable_render_order_enforcing=True` on the OrderEnforcer wrapper.\u001B[39m\u001B[38;5;124m\"\u001B[39m\n\u001B[1;32m     69\u001B[0m     )\n\u001B[0;32m---> 70\u001B[0m \u001B[38;5;28;01mreturn\u001B[39;00m \u001B[38;5;28;43mself\u001B[39;49m\u001B[38;5;241;43m.\u001B[39;49m\u001B[43menv\u001B[49m\u001B[38;5;241;43m.\u001B[39;49m\u001B[43mrender\u001B[49m\u001B[43m(\u001B[49m\u001B[38;5;241;43m*\u001B[39;49m\u001B[43margs\u001B[49m\u001B[43m,\u001B[49m\u001B[43m \u001B[49m\u001B[38;5;241;43m*\u001B[39;49m\u001B[38;5;241;43m*\u001B[39;49m\u001B[43mkwargs\u001B[49m\u001B[43m)\u001B[49m\n",
      "File \u001B[0;32m~/.local/lib/python3.10/site-packages/gymnasium/wrappers/env_checker.py:65\u001B[0m, in \u001B[0;36mPassiveEnvChecker.render\u001B[0;34m(self, *args, **kwargs)\u001B[0m\n\u001B[1;32m     63\u001B[0m     \u001B[38;5;28;01mreturn\u001B[39;00m env_render_passive_checker(\u001B[38;5;28mself\u001B[39m\u001B[38;5;241m.\u001B[39menv, \u001B[38;5;241m*\u001B[39margs, \u001B[38;5;241m*\u001B[39m\u001B[38;5;241m*\u001B[39mkwargs)\n\u001B[1;32m     64\u001B[0m \u001B[38;5;28;01melse\u001B[39;00m:\n\u001B[0;32m---> 65\u001B[0m     \u001B[38;5;28;01mreturn\u001B[39;00m \u001B[38;5;28;43mself\u001B[39;49m\u001B[38;5;241;43m.\u001B[39;49m\u001B[43menv\u001B[49m\u001B[38;5;241;43m.\u001B[39;49m\u001B[43mrender\u001B[49m\u001B[43m(\u001B[49m\u001B[38;5;241;43m*\u001B[39;49m\u001B[43margs\u001B[49m\u001B[43m,\u001B[49m\u001B[43m \u001B[49m\u001B[38;5;241;43m*\u001B[39;49m\u001B[38;5;241;43m*\u001B[39;49m\u001B[43mkwargs\u001B[49m\u001B[43m)\u001B[49m\n",
      "File \u001B[0;32m~/.local/lib/python3.10/site-packages/gymnasium/envs/box2d/lunar_lander.py:781\u001B[0m, in \u001B[0;36mLunarLander.render\u001B[0;34m(self)\u001B[0m\n\u001B[1;32m    766\u001B[0m             pygame\u001B[38;5;241m.\u001B[39mdraw\u001B[38;5;241m.\u001B[39mpolygon(\n\u001B[1;32m    767\u001B[0m                 \u001B[38;5;28mself\u001B[39m\u001B[38;5;241m.\u001B[39msurf,\n\u001B[1;32m    768\u001B[0m                 color\u001B[38;5;241m=\u001B[39m(\u001B[38;5;241m204\u001B[39m, \u001B[38;5;241m204\u001B[39m, \u001B[38;5;241m0\u001B[39m),\n\u001B[0;32m   (...)\u001B[0m\n\u001B[1;32m    773\u001B[0m                 ],\n\u001B[1;32m    774\u001B[0m             )\n\u001B[1;32m    775\u001B[0m             gfxdraw\u001B[38;5;241m.\u001B[39maapolygon(\n\u001B[1;32m    776\u001B[0m                 \u001B[38;5;28mself\u001B[39m\u001B[38;5;241m.\u001B[39msurf,\n\u001B[1;32m    777\u001B[0m                 [(x, flagy2), (x, flagy2 \u001B[38;5;241m-\u001B[39m \u001B[38;5;241m10\u001B[39m), (x \u001B[38;5;241m+\u001B[39m \u001B[38;5;241m25\u001B[39m, flagy2 \u001B[38;5;241m-\u001B[39m \u001B[38;5;241m5\u001B[39m)],\n\u001B[1;32m    778\u001B[0m                 (\u001B[38;5;241m204\u001B[39m, \u001B[38;5;241m204\u001B[39m, \u001B[38;5;241m0\u001B[39m),\n\u001B[1;32m    779\u001B[0m             )\n\u001B[0;32m--> 781\u001B[0m \u001B[38;5;28mself\u001B[39m\u001B[38;5;241m.\u001B[39msurf \u001B[38;5;241m=\u001B[39m \u001B[43mpygame\u001B[49m\u001B[38;5;241;43m.\u001B[39;49m\u001B[43mtransform\u001B[49m\u001B[38;5;241;43m.\u001B[39;49m\u001B[43mflip\u001B[49m\u001B[43m(\u001B[49m\u001B[38;5;28;43mself\u001B[39;49m\u001B[38;5;241;43m.\u001B[39;49m\u001B[43msurf\u001B[49m\u001B[43m,\u001B[49m\u001B[43m \u001B[49m\u001B[38;5;28;43;01mFalse\u001B[39;49;00m\u001B[43m,\u001B[49m\u001B[43m \u001B[49m\u001B[38;5;28;43;01mTrue\u001B[39;49;00m\u001B[43m)\u001B[49m\n\u001B[1;32m    783\u001B[0m \u001B[38;5;28;01mif\u001B[39;00m \u001B[38;5;28mself\u001B[39m\u001B[38;5;241m.\u001B[39mrender_mode \u001B[38;5;241m==\u001B[39m \u001B[38;5;124m\"\u001B[39m\u001B[38;5;124mhuman\u001B[39m\u001B[38;5;124m\"\u001B[39m:\n\u001B[1;32m    784\u001B[0m     \u001B[38;5;28;01massert\u001B[39;00m \u001B[38;5;28mself\u001B[39m\u001B[38;5;241m.\u001B[39mscreen \u001B[38;5;129;01mis\u001B[39;00m \u001B[38;5;129;01mnot\u001B[39;00m \u001B[38;5;28;01mNone\u001B[39;00m\n",
      "\u001B[0;31mKeyboardInterrupt\u001B[0m: "
     ]
    },
    {
     "data": {
      "text/plain": "<Figure size 640x480 with 1 Axes>",
      "image/png": "[encoded data removed]"
     },
     "metadata": {},
     "output_type": "display_data"
    }
   ],
   "source": [
    "env = gym.make('LunarLander-v2', render_mode=\"rgb_array\")\n",
    "## Initialize the networks\n",
    "n_observations = env.observation_space.shape[0]\n",
    "n_actions = env.action_space.n\n",
    "hidden_size = 256\n",
    "network = DQN(n_observations, n_actions, hidden_size).to(device)\n",
    "memory = ReplayMemory(10000)\n",
    "batch_size = 128\n",
    "gamma = 0.99\n",
    "learning_rate = 1e-4\n",
    "epsilon = ExponentialDecay(0.9, 0.05, 0.99)\n",
    "agent = DQNAgent(network, memory, batch_size, gamma, learning_rate, epsilon, env.action_space, 1000)\n",
    "\n",
    "train(env, agent, 1000, render=OnRenderer(100))\n",
    "\"Trained...\""
   ],
   "metadata": {
    "collapsed": false,
    "pycharm": {
     "name": "#%%\n"
    }
   }
  },
  {
   "cell_type": "code",
   "execution_count": 36,
   "outputs": [
    {
     "data": {
      "text/plain": "212.378036353462"
     },
     "execution_count": 36,
     "metadata": {},
     "output_type": "execute_result"
    },
    {
     "data": {
      "text/plain": "<Figure size 640x480 with 1 Axes>",
      "image/png": "[encoded data removed]"
     },
     "metadata": {},
     "output_type": "display_data"
    }
   ],
   "source": [
    "run_episode(env, agent, render=OnRenderer(1), learning=False)"
   ],
   "metadata": {
    "collapsed": false,
    "pycharm": {
     "name": "#%%\n"
    }
   }
  },
  {
   "cell_type": "code",
   "execution_count": 19,
   "outputs": [
    {
     "name": "stdout",
     "output_type": "stream",
     "text": [
      "Episode: 128, Reward: 44.0, Epsilon 0.01\n"
     ]
    },
    {
     "ename": "KeyboardInterrupt",
     "evalue": "",
     "output_type": "error",
     "traceback": [
      "\u001B[0;31m---------------------------------------------------------------------------\u001B[0m",
      "\u001B[0;31mAttributeError\u001B[0m                            Traceback (most recent call last)",
      "File \u001B[0;32m/usr/lib/python3.10/pathlib.py:625\u001B[0m, in \u001B[0;36mPurePath.__str__\u001B[0;34m(self)\u001B[0m\n\u001B[1;32m    624\u001B[0m \u001B[38;5;28;01mtry\u001B[39;00m:\n\u001B[0;32m--> 625\u001B[0m     \u001B[38;5;28;01mreturn\u001B[39;00m \u001B[38;5;28;43mself\u001B[39;49m\u001B[38;5;241;43m.\u001B[39;49m\u001B[43m_str\u001B[49m\n\u001B[1;32m    626\u001B[0m \u001B[38;5;28;01mexcept\u001B[39;00m \u001B[38;5;167;01mAttributeError\u001B[39;00m:\n",
      "\u001B[0;31mAttributeError\u001B[0m: 'PosixPath' object has no attribute '_str'",
      "\nDuring handling of the above exception, another exception occurred:\n",
      "\u001B[0;31mKeyboardInterrupt\u001B[0m                         Traceback (most recent call last)",
      "Cell \u001B[0;32mIn[19], line 17\u001B[0m\n\u001B[1;32m     15\u001B[0m epsilon \u001B[38;5;241m=\u001B[39m ExponentialDecay(\u001B[38;5;241m0.99\u001B[39m, \u001B[38;5;241m0.01\u001B[39m, \u001B[38;5;241m0.95\u001B[39m)\n\u001B[1;32m     16\u001B[0m agent \u001B[38;5;241m=\u001B[39m DQNAgent(network, memory, batch_size, gamma, learning_rate, epsilon, env\u001B[38;5;241m.\u001B[39maction_space, \u001B[38;5;241m20000\u001B[39m)\n\u001B[0;32m---> 17\u001B[0m \u001B[43mtrain\u001B[49m\u001B[43m(\u001B[49m\u001B[43menv\u001B[49m\u001B[43m,\u001B[49m\u001B[43m \u001B[49m\u001B[43magent\u001B[49m\u001B[43m,\u001B[49m\u001B[43m \u001B[49m\u001B[38;5;241;43m301\u001B[39;49m\u001B[43m,\u001B[49m\u001B[43m \u001B[49m\u001B[43mrender\u001B[49m\u001B[38;5;241;43m=\u001B[39;49m\u001B[43mOnRenderer\u001B[49m\u001B[43m(\u001B[49m\u001B[38;5;241;43m20\u001B[39;49m\u001B[43m)\u001B[49m\u001B[43m)\u001B[49m\n\u001B[1;32m     18\u001B[0m \u001B[38;5;124m\"\u001B[39m\u001B[38;5;124mTrained...\u001B[39m\u001B[38;5;124m\"\u001B[39m\n",
      "Cell \u001B[0;32mIn[17], line 10\u001B[0m, in \u001B[0;36mtrain\u001B[0;34m(env, agent, episodes, render)\u001B[0m\n\u001B[1;32m      8\u001B[0m \u001B[38;5;28mprint\u001B[39m(\u001B[38;5;124mf\u001B[39m\u001B[38;5;124m\"\u001B[39m\u001B[38;5;124mEpisode: \u001B[39m\u001B[38;5;132;01m{\u001B[39;00mepisode\u001B[38;5;132;01m}\u001B[39;00m\u001B[38;5;124m, Reward: \u001B[39m\u001B[38;5;132;01m{\u001B[39;00mreward\u001B[38;5;132;01m}\u001B[39;00m\u001B[38;5;124m, Epsilon \u001B[39m\u001B[38;5;132;01m{\u001B[39;00magent\u001B[38;5;241m.\u001B[39mepsilon()\u001B[38;5;132;01m}\u001B[39;00m\u001B[38;5;124m\"\u001B[39m)\n\u001B[1;32m      9\u001B[0m \u001B[38;5;66;03m## Plot the rewards\u001B[39;00m\n\u001B[0;32m---> 10\u001B[0m \u001B[43mplt\u001B[49m\u001B[38;5;241;43m.\u001B[39;49m\u001B[43mclf\u001B[49m\u001B[43m(\u001B[49m\u001B[43m)\u001B[49m\n\u001B[1;32m     11\u001B[0m plt\u001B[38;5;241m.\u001B[39mtitle(\u001B[38;5;124mf\u001B[39m\u001B[38;5;124m'\u001B[39m\u001B[38;5;124mTraining...  Episode: \u001B[39m\u001B[38;5;132;01m{\u001B[39;00mepisode\u001B[38;5;132;01m}\u001B[39;00m\u001B[38;5;124m'\u001B[39m)\n\u001B[1;32m     12\u001B[0m plt\u001B[38;5;241m.\u001B[39mxlabel(\u001B[38;5;124m'\u001B[39m\u001B[38;5;124mEpisode\u001B[39m\u001B[38;5;124m'\u001B[39m)\n",
      "File \u001B[0;32m~/.local/lib/python3.10/site-packages/matplotlib/pyplot.py:937\u001B[0m, in \u001B[0;36mclf\u001B[0;34m()\u001B[0m\n\u001B[1;32m    935\u001B[0m \u001B[38;5;28;01mdef\u001B[39;00m \u001B[38;5;21mclf\u001B[39m():\n\u001B[1;32m    936\u001B[0m \u001B[38;5;250m    \u001B[39m\u001B[38;5;124;03m\"\"\"Clear the current figure.\"\"\"\u001B[39;00m\n\u001B[0;32m--> 937\u001B[0m     \u001B[43mgcf\u001B[49m\u001B[43m(\u001B[49m\u001B[43m)\u001B[49m\u001B[38;5;241;43m.\u001B[39;49m\u001B[43mclf\u001B[49m\u001B[43m(\u001B[49m\u001B[43m)\u001B[49m\n",
      "File \u001B[0;32m~/.local/lib/python3.10/site-packages/matplotlib/figure.py:2761\u001B[0m, in \u001B[0;36mFigure.clf\u001B[0;34m(self, keep_observers)\u001B[0m\n\u001B[1;32m   2758\u001B[0m \u001B[38;5;28mself\u001B[39m\u001B[38;5;241m.\u001B[39mcallbacks \u001B[38;5;241m=\u001B[39m cbook\u001B[38;5;241m.\u001B[39mCallbackRegistry()\n\u001B[1;32m   2760\u001B[0m \u001B[38;5;28;01mfor\u001B[39;00m ax \u001B[38;5;129;01min\u001B[39;00m \u001B[38;5;28mtuple\u001B[39m(\u001B[38;5;28mself\u001B[39m\u001B[38;5;241m.\u001B[39maxes):  \u001B[38;5;66;03m# Iterate over the copy.\u001B[39;00m\n\u001B[0;32m-> 2761\u001B[0m     \u001B[43max\u001B[49m\u001B[38;5;241;43m.\u001B[39;49m\u001B[43mcla\u001B[49m\u001B[43m(\u001B[49m\u001B[43m)\u001B[49m\n\u001B[1;32m   2762\u001B[0m     \u001B[38;5;28mself\u001B[39m\u001B[38;5;241m.\u001B[39mdelaxes(ax)         \u001B[38;5;66;03m# removes ax from self._axstack\u001B[39;00m\n\u001B[1;32m   2764\u001B[0m toolbar \u001B[38;5;241m=\u001B[39m \u001B[38;5;28mgetattr\u001B[39m(\u001B[38;5;28mself\u001B[39m\u001B[38;5;241m.\u001B[39mcanvas, \u001B[38;5;124m'\u001B[39m\u001B[38;5;124mtoolbar\u001B[39m\u001B[38;5;124m'\u001B[39m, \u001B[38;5;28;01mNone\u001B[39;00m)\n",
      "File \u001B[0;32m~/.local/lib/python3.10/site-packages/matplotlib/axes/_base.py:1199\u001B[0m, in \u001B[0;36m_AxesBase.cla\u001B[0;34m(self)\u001B[0m\n\u001B[1;32m   1196\u001B[0m \u001B[38;5;28mself\u001B[39m\u001B[38;5;241m.\u001B[39myaxis\u001B[38;5;241m.\u001B[39mclear()\n\u001B[1;32m   1198\u001B[0m \u001B[38;5;28;01mfor\u001B[39;00m name, spine \u001B[38;5;129;01min\u001B[39;00m \u001B[38;5;28mself\u001B[39m\u001B[38;5;241m.\u001B[39mspines\u001B[38;5;241m.\u001B[39mitems():\n\u001B[0;32m-> 1199\u001B[0m     \u001B[43mspine\u001B[49m\u001B[38;5;241;43m.\u001B[39;49m\u001B[43mclear\u001B[49m\u001B[43m(\u001B[49m\u001B[43m)\u001B[49m\n\u001B[1;32m   1201\u001B[0m \u001B[38;5;28mself\u001B[39m\u001B[38;5;241m.\u001B[39mignore_existing_data_limits \u001B[38;5;241m=\u001B[39m \u001B[38;5;28;01mTrue\u001B[39;00m\n\u001B[1;32m   1202\u001B[0m \u001B[38;5;28mself\u001B[39m\u001B[38;5;241m.\u001B[39mcallbacks \u001B[38;5;241m=\u001B[39m cbook\u001B[38;5;241m.\u001B[39mCallbackRegistry()\n",
      "File \u001B[0;32m~/.local/lib/python3.10/site-packages/matplotlib/spines.py:223\u001B[0m, in \u001B[0;36mSpine.clear\u001B[0;34m(self)\u001B[0m\n\u001B[1;32m    221\u001B[0m \u001B[38;5;28mself\u001B[39m\u001B[38;5;241m.\u001B[39m_position \u001B[38;5;241m=\u001B[39m \u001B[38;5;28;01mNone\u001B[39;00m  \u001B[38;5;66;03m# clear position\u001B[39;00m\n\u001B[1;32m    222\u001B[0m \u001B[38;5;28;01mif\u001B[39;00m \u001B[38;5;28mself\u001B[39m\u001B[38;5;241m.\u001B[39maxis \u001B[38;5;129;01mis\u001B[39;00m \u001B[38;5;129;01mnot\u001B[39;00m \u001B[38;5;28;01mNone\u001B[39;00m:\n\u001B[0;32m--> 223\u001B[0m     \u001B[38;5;28;43mself\u001B[39;49m\u001B[38;5;241;43m.\u001B[39;49m\u001B[43maxis\u001B[49m\u001B[38;5;241;43m.\u001B[39;49m\u001B[43mclear\u001B[49m\u001B[43m(\u001B[49m\u001B[43m)\u001B[49m\n",
      "File \u001B[0;32m~/.local/lib/python3.10/site-packages/matplotlib/axis.py:806\u001B[0m, in \u001B[0;36mAxis.clear\u001B[0;34m(self)\u001B[0m\n\u001B[1;32m    791\u001B[0m \u001B[38;5;250m\u001B[39m\u001B[38;5;124;03m\"\"\"\u001B[39;00m\n\u001B[1;32m    792\u001B[0m \u001B[38;5;124;03mClear the axis.\u001B[39;00m\n\u001B[1;32m    793\u001B[0m \n\u001B[0;32m   (...)\u001B[0m\n\u001B[1;32m    801\u001B[0m \u001B[38;5;124;03m- registered callbacks\u001B[39;00m\n\u001B[1;32m    802\u001B[0m \u001B[38;5;124;03m\"\"\"\u001B[39;00m\n\u001B[1;32m    804\u001B[0m \u001B[38;5;28mself\u001B[39m\u001B[38;5;241m.\u001B[39mlabel\u001B[38;5;241m.\u001B[39mset_text(\u001B[38;5;124m'\u001B[39m\u001B[38;5;124m'\u001B[39m)  \u001B[38;5;66;03m# self.set_label_text would change isDefault_\u001B[39;00m\n\u001B[0;32m--> 806\u001B[0m \u001B[38;5;28;43mself\u001B[39;49m\u001B[38;5;241;43m.\u001B[39;49m\u001B[43m_set_scale\u001B[49m\u001B[43m(\u001B[49m\u001B[38;5;124;43m'\u001B[39;49m\u001B[38;5;124;43mlinear\u001B[39;49m\u001B[38;5;124;43m'\u001B[39;49m\u001B[43m)\u001B[49m\n\u001B[1;32m    808\u001B[0m \u001B[38;5;66;03m# Clear the callback registry for this axis, or it may \"leak\"\u001B[39;00m\n\u001B[1;32m    809\u001B[0m \u001B[38;5;28mself\u001B[39m\u001B[38;5;241m.\u001B[39mcallbacks \u001B[38;5;241m=\u001B[39m cbook\u001B[38;5;241m.\u001B[39mCallbackRegistry()\n",
      "File \u001B[0;32m~/.local/lib/python3.10/site-packages/matplotlib/axis.py:764\u001B[0m, in \u001B[0;36mAxis._set_scale\u001B[0;34m(self, value, **kwargs)\u001B[0m\n\u001B[1;32m    762\u001B[0m \u001B[38;5;28;01melse\u001B[39;00m:\n\u001B[1;32m    763\u001B[0m     \u001B[38;5;28mself\u001B[39m\u001B[38;5;241m.\u001B[39m_scale \u001B[38;5;241m=\u001B[39m value\n\u001B[0;32m--> 764\u001B[0m \u001B[38;5;28;43mself\u001B[39;49m\u001B[38;5;241;43m.\u001B[39;49m\u001B[43m_scale\u001B[49m\u001B[38;5;241;43m.\u001B[39;49m\u001B[43mset_default_locators_and_formatters\u001B[49m\u001B[43m(\u001B[49m\u001B[38;5;28;43mself\u001B[39;49m\u001B[43m)\u001B[49m\n\u001B[1;32m    766\u001B[0m \u001B[38;5;28mself\u001B[39m\u001B[38;5;241m.\u001B[39misDefault_majloc \u001B[38;5;241m=\u001B[39m \u001B[38;5;28;01mTrue\u001B[39;00m\n\u001B[1;32m    767\u001B[0m \u001B[38;5;28mself\u001B[39m\u001B[38;5;241m.\u001B[39misDefault_minloc \u001B[38;5;241m=\u001B[39m \u001B[38;5;28;01mTrue\u001B[39;00m\n",
      "File \u001B[0;32m~/.local/lib/python3.10/site-packages/matplotlib/scale.py:107\u001B[0m, in \u001B[0;36mLinearScale.set_default_locators_and_formatters\u001B[0;34m(self, axis)\u001B[0m\n\u001B[1;32m    104\u001B[0m \u001B[38;5;28;01mdef\u001B[39;00m \u001B[38;5;21mset_default_locators_and_formatters\u001B[39m(\u001B[38;5;28mself\u001B[39m, axis):\n\u001B[1;32m    105\u001B[0m     \u001B[38;5;66;03m# docstring inherited\u001B[39;00m\n\u001B[1;32m    106\u001B[0m     axis\u001B[38;5;241m.\u001B[39mset_major_locator(AutoLocator())\n\u001B[0;32m--> 107\u001B[0m     axis\u001B[38;5;241m.\u001B[39mset_major_formatter(\u001B[43mScalarFormatter\u001B[49m\u001B[43m(\u001B[49m\u001B[43m)\u001B[49m)\n\u001B[1;32m    108\u001B[0m     axis\u001B[38;5;241m.\u001B[39mset_minor_formatter(NullFormatter())\n\u001B[1;32m    109\u001B[0m     \u001B[38;5;66;03m# update the minor locator for x and y axis based on rcParams\u001B[39;00m\n",
      "File \u001B[0;32m~/.local/lib/python3.10/site-packages/matplotlib/ticker.py:453\u001B[0m, in \u001B[0;36mScalarFormatter.__init__\u001B[0;34m(self, useOffset, useMathText, useLocale)\u001B[0m\n\u001B[1;32m    450\u001B[0m         \u001B[38;5;28;01mexcept\u001B[39;00m \u001B[38;5;167;01mValueError\u001B[39;00m:\n\u001B[1;32m    451\u001B[0m             ufont \u001B[38;5;241m=\u001B[39m \u001B[38;5;28;01mNone\u001B[39;00m\n\u001B[0;32m--> 453\u001B[0m         \u001B[38;5;28;01mif\u001B[39;00m ufont \u001B[38;5;241m==\u001B[39m \u001B[38;5;28;43mstr\u001B[39;49m\u001B[43m(\u001B[49m\u001B[43mcbook\u001B[49m\u001B[38;5;241;43m.\u001B[39;49m\u001B[43m_get_data_path\u001B[49m\u001B[43m(\u001B[49m\u001B[38;5;124;43m\"\u001B[39;49m\u001B[38;5;124;43mfonts/ttf/cmr10.ttf\u001B[39;49m\u001B[38;5;124;43m\"\u001B[39;49m\u001B[43m)\u001B[49m\u001B[43m)\u001B[49m:\n\u001B[1;32m    454\u001B[0m             _api\u001B[38;5;241m.\u001B[39mwarn_external(\n\u001B[1;32m    455\u001B[0m                 \u001B[38;5;124m\"\u001B[39m\u001B[38;5;124mcmr10 font should ideally be used with \u001B[39m\u001B[38;5;124m\"\u001B[39m\n\u001B[1;32m    456\u001B[0m                 \u001B[38;5;124m\"\u001B[39m\u001B[38;5;124mmathtext, set axes.formatter.use_mathtext to True\u001B[39m\u001B[38;5;124m\"\u001B[39m\n\u001B[1;32m    457\u001B[0m             )\n\u001B[1;32m    458\u001B[0m \u001B[38;5;28mself\u001B[39m\u001B[38;5;241m.\u001B[39mset_useMathText(useMathText)\n",
      "File \u001B[0;32m/usr/lib/python3.10/pathlib.py:627\u001B[0m, in \u001B[0;36mPurePath.__str__\u001B[0;34m(self)\u001B[0m\n\u001B[1;32m    625\u001B[0m     \u001B[38;5;28;01mreturn\u001B[39;00m \u001B[38;5;28mself\u001B[39m\u001B[38;5;241m.\u001B[39m_str\n\u001B[1;32m    626\u001B[0m \u001B[38;5;28;01mexcept\u001B[39;00m \u001B[38;5;167;01mAttributeError\u001B[39;00m:\n\u001B[0;32m--> 627\u001B[0m     \u001B[38;5;28mself\u001B[39m\u001B[38;5;241m.\u001B[39m_str \u001B[38;5;241m=\u001B[39m \u001B[38;5;28;43mself\u001B[39;49m\u001B[38;5;241;43m.\u001B[39;49m\u001B[43m_format_parsed_parts\u001B[49m\u001B[43m(\u001B[49m\u001B[38;5;28;43mself\u001B[39;49m\u001B[38;5;241;43m.\u001B[39;49m\u001B[43m_drv\u001B[49m\u001B[43m,\u001B[49m\u001B[43m \u001B[49m\u001B[38;5;28;43mself\u001B[39;49m\u001B[38;5;241;43m.\u001B[39;49m\u001B[43m_root\u001B[49m\u001B[43m,\u001B[49m\n\u001B[1;32m    628\u001B[0m \u001B[43m                                          \u001B[49m\u001B[38;5;28;43mself\u001B[39;49m\u001B[38;5;241;43m.\u001B[39;49m\u001B[43m_parts\u001B[49m\u001B[43m)\u001B[49m \u001B[38;5;129;01mor\u001B[39;00m \u001B[38;5;124m'\u001B[39m\u001B[38;5;124m.\u001B[39m\u001B[38;5;124m'\u001B[39m\n\u001B[1;32m    629\u001B[0m     \u001B[38;5;28;01mreturn\u001B[39;00m \u001B[38;5;28mself\u001B[39m\u001B[38;5;241m.\u001B[39m_str\n",
      "File \u001B[0;32m/usr/lib/python3.10/pathlib.py:608\u001B[0m, in \u001B[0;36mPurePath._format_parsed_parts\u001B[0;34m(cls, drv, root, parts)\u001B[0m\n\u001B[1;32m    605\u001B[0m     \u001B[38;5;28mself\u001B[39m\u001B[38;5;241m.\u001B[39m_parts \u001B[38;5;241m=\u001B[39m parts\n\u001B[1;32m    606\u001B[0m     \u001B[38;5;28;01mreturn\u001B[39;00m \u001B[38;5;28mself\u001B[39m\n\u001B[0;32m--> 608\u001B[0m \u001B[38;5;129m@classmethod\u001B[39m\n\u001B[1;32m    609\u001B[0m \u001B[38;5;28;01mdef\u001B[39;00m \u001B[38;5;21m_format_parsed_parts\u001B[39m(\u001B[38;5;28mcls\u001B[39m, drv, root, parts):\n\u001B[1;32m    610\u001B[0m     \u001B[38;5;28;01mif\u001B[39;00m drv \u001B[38;5;129;01mor\u001B[39;00m root:\n\u001B[1;32m    611\u001B[0m         \u001B[38;5;28;01mreturn\u001B[39;00m drv \u001B[38;5;241m+\u001B[39m root \u001B[38;5;241m+\u001B[39m \u001B[38;5;28mcls\u001B[39m\u001B[38;5;241m.\u001B[39m_flavour\u001B[38;5;241m.\u001B[39mjoin(parts[\u001B[38;5;241m1\u001B[39m:])\n",
      "\u001B[0;31mKeyboardInterrupt\u001B[0m: "
     ]
    },
    {
     "data": {
      "text/plain": "<Figure size 640x480 with 1 Axes>",
      "image/png": "[encoded data removed]"
     },
     "metadata": {},
     "output_type": "display_data"
    }
   ],
   "source": [
    "torch.manual_seed(42)\n",
    "from random import seed\n",
    "\n",
    "seed(42)\n",
    "env = gym.make('CartPole-v1', render_mode=\"rgb_array\")\n",
    "## Initialize the networks\n",
    "n_observations = env.observation_space.shape[0]\n",
    "n_actions = env.action_space.n\n",
    "hidden_size = 128\n",
    "network = DQN(n_observations, n_actions, hidden_size).to(device)\n",
    "memory = ReplayMemory(10000)\n",
    "batch_size = 512\n",
    "gamma = 0.99\n",
    "learning_rate = 0.0001\n",
    "epsilon = ExponentialDecay(0.99, 0.01, 0.95)\n",
    "agent = DQNAgent(network, memory, batch_size, gamma, learning_rate, epsilon, env.action_space, 20000)\n",
    "train(env, agent, 301, render=OnRenderer(20))\n",
    "\"Trained...\"\n"
   ],
   "metadata": {
    "collapsed": false,
    "pycharm": {
     "name": "#%%\n"
    }
   }
  },
  {
   "cell_type": "markdown",
   "source": [
    "## Stable Baseline\n",
    "It is a library that provides implementations of reinforcement learning algorithms. It is built on top of Tensorflow and PyTorch. It provides a common interface for all the algorithms and it is easy to use. It also provides a set of tools for training, saving and loading models that can be used for further training or evaluation.\n",
    "Useful links:\n",
    "- [Stable Baselines3](https://stable-baselines3.readthedocs.io/en/master/)\n",
    "\n",
    "Use stable baselines when:\n",
    "- You want to use a pre-implemented algorithm\n",
    "- You want to use a pre-implemented neural network architecture\n",
    "- You want to use a pre-implemented training loop"
   ],
   "metadata": {
    "collapsed": false,
    "pycharm": {
     "name": "#%% md\n"
    }
   }
  },
  {
   "cell_type": "code",
   "execution_count": 8,
   "outputs": [],
   "source": [
    "environment = \"CartPole-v1\""
   ],
   "metadata": {
    "collapsed": false,
    "pycharm": {
     "name": "#%%\n"
    }
   }
  },
  {
   "cell_type": "code",
   "execution_count": 12,
   "outputs": [
    {
     "name": "stdout",
     "output_type": "stream",
     "text": [
      "Using cuda device\n",
      "---------------------------------\n",
      "| rollout/           |          |\n",
      "|    ep_len_mean     | 91.5     |\n",
      "|    ep_rew_mean     | -165     |\n",
      "| time/              |          |\n",
      "|    fps             | 2728     |\n",
      "|    iterations      | 1        |\n",
      "|    time_elapsed    | 3        |\n",
      "|    total_timesteps | 8192     |\n",
      "---------------------------------\n",
      "------------------------------------------\n",
      "| rollout/                |              |\n",
      "|    ep_len_mean          | 94.9         |\n",
      "|    ep_rew_mean          | -144         |\n",
      "| time/                   |              |\n",
      "|    fps                  | 1371         |\n",
      "|    iterations           | 2            |\n",
      "|    time_elapsed         | 11           |\n",
      "|    total_timesteps      | 16384        |\n",
      "| train/                  |              |\n",
      "|    approx_kl            | 0.0072450256 |\n",
      "|    clip_fraction        | 0.0482       |\n",
      "|    clip_range           | 0.2          |\n",
      "|    entropy_loss         | -1.38        |\n",
      "|    explained_variance   | -0.00274     |\n",
      "|    learning_rate        | 0.0003       |\n",
      "|    loss                 | 442          |\n",
      "|    n_updates            | 10           |\n",
      "|    policy_gradient_loss | -0.00673     |\n",
      "|    value_loss           | 983          |\n",
      "------------------------------------------\n",
      "-----------------------------------------\n",
      "| rollout/                |             |\n",
      "|    ep_len_mean          | 97.5        |\n",
      "|    ep_rew_mean          | -139        |\n",
      "| time/                   |             |\n",
      "|    fps                  | 1199        |\n",
      "|    iterations           | 3           |\n",
      "|    time_elapsed         | 20          |\n",
      "|    total_timesteps      | 24576       |\n",
      "| train/                  |             |\n",
      "|    approx_kl            | 0.008062011 |\n",
      "|    clip_fraction        | 0.0612      |\n",
      "|    clip_range           | 0.2         |\n",
      "|    entropy_loss         | -1.37       |\n",
      "|    explained_variance   | 0.148       |\n",
      "|    learning_rate        | 0.0003      |\n",
      "|    loss                 | 216         |\n",
      "|    n_updates            | 20          |\n",
      "|    policy_gradient_loss | -0.00706    |\n",
      "|    value_loss           | 538         |\n",
      "-----------------------------------------\n",
      "-----------------------------------------\n",
      "| rollout/                |             |\n",
      "|    ep_len_mean          | 106         |\n",
      "|    ep_rew_mean          | -118        |\n",
      "| time/                   |             |\n",
      "|    fps                  | 1106        |\n",
      "|    iterations           | 4           |\n",
      "|    time_elapsed         | 29          |\n",
      "|    total_timesteps      | 32768       |\n",
      "| train/                  |             |\n",
      "|    approx_kl            | 0.011689158 |\n",
      "|    clip_fraction        | 0.1         |\n",
      "|    clip_range           | 0.2         |\n",
      "|    entropy_loss         | -1.34       |\n",
      "|    explained_variance   | 0.267       |\n",
      "|    learning_rate        | 0.0003      |\n",
      "|    loss                 | 56.5        |\n",
      "|    n_updates            | 30          |\n",
      "|    policy_gradient_loss | -0.0104     |\n",
      "|    value_loss           | 417         |\n",
      "-----------------------------------------\n",
      "-----------------------------------------\n",
      "| rollout/                |             |\n",
      "|    ep_len_mean          | 117         |\n",
      "|    ep_rew_mean          | -92.1       |\n",
      "| time/                   |             |\n",
      "|    fps                  | 1055        |\n",
      "|    iterations           | 5           |\n",
      "|    time_elapsed         | 38          |\n",
      "|    total_timesteps      | 40960       |\n",
      "| train/                  |             |\n",
      "|    approx_kl            | 0.011817712 |\n",
      "|    clip_fraction        | 0.15        |\n",
      "|    clip_range           | 0.2         |\n",
      "|    entropy_loss         | -1.29       |\n",
      "|    explained_variance   | 0.394       |\n",
      "|    learning_rate        | 0.0003      |\n",
      "|    loss                 | 242         |\n",
      "|    n_updates            | 40          |\n",
      "|    policy_gradient_loss | -0.0149     |\n",
      "|    value_loss           | 231         |\n",
      "-----------------------------------------\n",
      "----------------------------------------\n",
      "| rollout/                |            |\n",
      "|    ep_len_mean          | 141        |\n",
      "|    ep_rew_mean          | -76.4      |\n",
      "| time/                   |            |\n",
      "|    fps                  | 1005       |\n",
      "|    iterations           | 6          |\n",
      "|    time_elapsed         | 48         |\n",
      "|    total_timesteps      | 49152      |\n",
      "| train/                  |            |\n",
      "|    approx_kl            | 0.01305347 |\n",
      "|    clip_fraction        | 0.19       |\n",
      "|    clip_range           | 0.2        |\n",
      "|    entropy_loss         | -1.24      |\n",
      "|    explained_variance   | 0.294      |\n",
      "|    learning_rate        | 0.0003     |\n",
      "|    loss                 | 76.2       |\n",
      "|    n_updates            | 50         |\n",
      "|    policy_gradient_loss | -0.0146    |\n",
      "|    value_loss           | 210        |\n",
      "----------------------------------------\n",
      "-----------------------------------------\n",
      "| rollout/                |             |\n",
      "|    ep_len_mean          | 162         |\n",
      "|    ep_rew_mean          | -65.5       |\n",
      "| time/                   |             |\n",
      "|    fps                  | 977         |\n",
      "|    iterations           | 7           |\n",
      "|    time_elapsed         | 58          |\n",
      "|    total_timesteps      | 57344       |\n",
      "| train/                  |             |\n",
      "|    approx_kl            | 0.012785833 |\n",
      "|    clip_fraction        | 0.147       |\n",
      "|    clip_range           | 0.2         |\n",
      "|    entropy_loss         | -1.18       |\n",
      "|    explained_variance   | 0.46        |\n",
      "|    learning_rate        | 0.0003      |\n",
      "|    loss                 | 101         |\n",
      "|    n_updates            | 60          |\n",
      "|    policy_gradient_loss | -0.0124     |\n",
      "|    value_loss           | 191         |\n",
      "-----------------------------------------\n",
      "----------------------------------------\n",
      "| rollout/                |            |\n",
      "|    ep_len_mean          | 202        |\n",
      "|    ep_rew_mean          | -56.8      |\n",
      "| time/                   |            |\n",
      "|    fps                  | 947        |\n",
      "|    iterations           | 8          |\n",
      "|    time_elapsed         | 69         |\n",
      "|    total_timesteps      | 65536      |\n",
      "| train/                  |            |\n",
      "|    approx_kl            | 0.01059171 |\n",
      "|    clip_fraction        | 0.104      |\n",
      "|    clip_range           | 0.2        |\n",
      "|    entropy_loss         | -1.11      |\n",
      "|    explained_variance   | 0.487      |\n",
      "|    learning_rate        | 0.0003     |\n",
      "|    loss                 | 125        |\n",
      "|    n_updates            | 70         |\n",
      "|    policy_gradient_loss | -0.00743   |\n",
      "|    value_loss           | 234        |\n",
      "----------------------------------------\n",
      "-----------------------------------------\n",
      "| rollout/                |             |\n",
      "|    ep_len_mean          | 228         |\n",
      "|    ep_rew_mean          | -53.3       |\n",
      "| time/                   |             |\n",
      "|    fps                  | 924         |\n",
      "|    iterations           | 9           |\n",
      "|    time_elapsed         | 79          |\n",
      "|    total_timesteps      | 73728       |\n",
      "| train/                  |             |\n",
      "|    approx_kl            | 0.009703133 |\n",
      "|    clip_fraction        | 0.0873      |\n",
      "|    clip_range           | 0.2         |\n",
      "|    entropy_loss         | -1.13       |\n",
      "|    explained_variance   | 0.603       |\n",
      "|    learning_rate        | 0.0003      |\n",
      "|    loss                 | 95.2        |\n",
      "|    n_updates            | 80          |\n",
      "|    policy_gradient_loss | -0.00861    |\n",
      "|    value_loss           | 156         |\n",
      "-----------------------------------------\n",
      "-----------------------------------------\n",
      "| rollout/                |             |\n",
      "|    ep_len_mean          | 271         |\n",
      "|    ep_rew_mean          | -52.8       |\n",
      "| time/                   |             |\n",
      "|    fps                  | 889         |\n",
      "|    iterations           | 10          |\n",
      "|    time_elapsed         | 92          |\n",
      "|    total_timesteps      | 81920       |\n",
      "| train/                  |             |\n",
      "|    approx_kl            | 0.008705854 |\n",
      "|    clip_fraction        | 0.101       |\n",
      "|    clip_range           | 0.2         |\n",
      "|    entropy_loss         | -1.07       |\n",
      "|    explained_variance   | 0.673       |\n",
      "|    learning_rate        | 0.0003      |\n",
      "|    loss                 | 47.7        |\n",
      "|    n_updates            | 90          |\n",
      "|    policy_gradient_loss | -0.00876    |\n",
      "|    value_loss           | 144         |\n",
      "-----------------------------------------\n",
      "------------------------------------------\n",
      "| rollout/                |              |\n",
      "|    ep_len_mean          | 331          |\n",
      "|    ep_rew_mean          | -50.3        |\n",
      "| time/                   |              |\n",
      "|    fps                  | 845          |\n",
      "|    iterations           | 11           |\n",
      "|    time_elapsed         | 106          |\n",
      "|    total_timesteps      | 90112        |\n",
      "| train/                  |              |\n",
      "|    approx_kl            | 0.0106981555 |\n",
      "|    clip_fraction        | 0.127        |\n",
      "|    clip_range           | 0.2          |\n",
      "|    entropy_loss         | -1.14        |\n",
      "|    explained_variance   | 0.68         |\n",
      "|    learning_rate        | 0.0003       |\n",
      "|    loss                 | 65.7         |\n",
      "|    n_updates            | 100          |\n",
      "|    policy_gradient_loss | -0.00953     |\n",
      "|    value_loss           | 116          |\n",
      "------------------------------------------\n",
      "------------------------------------------\n",
      "| rollout/                |              |\n",
      "|    ep_len_mean          | 377          |\n",
      "|    ep_rew_mean          | -44.7        |\n",
      "| time/                   |              |\n",
      "|    fps                  | 820          |\n",
      "|    iterations           | 12           |\n",
      "|    time_elapsed         | 119          |\n",
      "|    total_timesteps      | 98304        |\n",
      "| train/                  |              |\n",
      "|    approx_kl            | 0.0082886275 |\n",
      "|    clip_fraction        | 0.0999       |\n",
      "|    clip_range           | 0.2          |\n",
      "|    entropy_loss         | -1.11        |\n",
      "|    explained_variance   | 0.796        |\n",
      "|    learning_rate        | 0.0003       |\n",
      "|    loss                 | 22.5         |\n",
      "|    n_updates            | 110          |\n",
      "|    policy_gradient_loss | -0.00841     |\n",
      "|    value_loss           | 73.4         |\n",
      "------------------------------------------\n",
      "-----------------------------------------\n",
      "| rollout/                |             |\n",
      "|    ep_len_mean          | 436         |\n",
      "|    ep_rew_mean          | -34.7       |\n",
      "| time/                   |             |\n",
      "|    fps                  | 792         |\n",
      "|    iterations           | 13          |\n",
      "|    time_elapsed         | 134         |\n",
      "|    total_timesteps      | 106496      |\n",
      "| train/                  |             |\n",
      "|    approx_kl            | 0.007741388 |\n",
      "|    clip_fraction        | 0.104       |\n",
      "|    clip_range           | 0.2         |\n",
      "|    entropy_loss         | -1.02       |\n",
      "|    explained_variance   | 0.797       |\n",
      "|    learning_rate        | 0.0003      |\n",
      "|    loss                 | 26.9        |\n",
      "|    n_updates            | 120         |\n",
      "|    policy_gradient_loss | -0.00722    |\n",
      "|    value_loss           | 60.3        |\n",
      "-----------------------------------------\n"
     ]
    }
   ],
   "source": [
    "vec_env = make_vec_env(environment, n_envs=4) ## use 4 parallel environments (fast training)\n",
    "model = PPO(\"MlpPolicy\", vec_env, verbose=1) ## Use a multi-layer perceptron policy\n",
    "model.learn(total_timesteps=100000) ## Train for 100k steps\n",
    "model.save(\"ppo\")\n",
    "del model # remove to demonstrate saving and loading"
   ],
   "metadata": {
    "collapsed": false,
    "pycharm": {
     "name": "#%%\n"
    }
   }
  },
  {
   "cell_type": "code",
   "execution_count": 14,
   "outputs": [
    {
     "data": {
      "text/plain": "<Figure size 640x480 with 1 Axes>",
      "image/png": "[encoded data removed]"
     },
     "metadata": {},
     "output_type": "display_data"
    }
   ],
   "source": [
    "model = PPO.load(\"ppo\")\n",
    "\n",
    "env = gym.make(environment, render_mode=\"rgb_array\")\n",
    "obs, _ = env.reset()\n",
    "\n",
    "img = plt.imshow(env.render()) ## Used for rendering purposes\n",
    "done = False\n",
    "while not done:\n",
    "    action, _states = model.predict(torch.tensor(obs).unsqueeze(0))\n",
    "    obs, rewards, end, truncated, _ = env.step(action[0])\n",
    "    done = end or truncated\n",
    "    img.set_data(env.render())\n",
    "    plt.axis('off')\n",
    "    display.display(plt.gcf())\n",
    "    display.clear_output(wait=True)\n"
   ],
   "metadata": {
    "collapsed": false,
    "pycharm": {
     "name": "#%%\n"
    }
   }
  }
 ],
 "metadata": {
  "colab": {
   "provenance": []
  },
  "kernelspec": {
   "display_name": "Python 3 (ipykernel)",
   "language": "python",
   "name": "python3"
  },
  "language_info": {
   "codemirror_mode": {
    "name": "ipython",
    "version": 3
   },
   "file_extension": ".py",
   "mimetype": "text/x-python",
   "name": "python",
   "nbconvert_exporter": "python",
   "pygments_lexer": "ipython3",
   "version": "3.9.13"
  }
 },
 "nbformat": 4,
 "nbformat_minor": 1
}